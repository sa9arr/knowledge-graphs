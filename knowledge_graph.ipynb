{
 "cells": [
  {
   "cell_type": "markdown",
   "metadata": {},
   "source": [
    "### This notebook contains the code for storing a sample pdf or History of AI and Advancements into the Neo4j Graph Database.\n",
    "\n",
    "### Steps Involved:\n",
    "1. Loading the pdf using pypdf loader.\n",
    "2. Use OpenAI Embeddings for semantic chunking of the document.\n",
    "3. Use LLMGraphTransformer from langchain to convert the chunks into Nodes and Relationships.\n",
    "4. Store the Nodes and Relationships into the Neo4j Database.\n",
    "5. Query the Graph Database and retrieve the information.\n"
   ]
  },
  {
   "cell_type": "code",
   "execution_count": 2,
   "metadata": {},
   "outputs": [
    {
     "data": {
      "text/plain": [
       "True"
      ]
     },
     "execution_count": 2,
     "metadata": {},
     "output_type": "execute_result"
    }
   ],
   "source": [
    "from dotenv import load_dotenv\n",
    "import os\n",
    "load_dotenv()\n"
   ]
  },
  {
   "cell_type": "markdown",
   "metadata": {},
   "source": [
    "Fetch the environment variables from .env"
   ]
  },
  {
   "cell_type": "code",
   "execution_count": 3,
   "metadata": {},
   "outputs": [],
   "source": [
    "neo4j_username = os.getenv(\"NEO4J_USERNAME\")\n",
    "neo4j_password = os.getenv(\"NEO4J_PASSWORD\")\n",
    "neo4j_uri = os.getenv(\"NEO4J_URI\")\n",
    "openai_api_key = os.getenv(\"OPENAI_API_KEY\")"
   ]
  },
  {
   "cell_type": "code",
   "execution_count": 4,
   "metadata": {},
   "outputs": [],
   "source": [
    "from langchain_community.document_loaders import PyPDFLoader"
   ]
  },
  {
   "cell_type": "code",
   "execution_count": null,
   "metadata": {},
   "outputs": [],
   "source": [
    "loader = PyPDFLoader('./advancements_in_ai.pdf')"
   ]
  },
  {
   "cell_type": "code",
   "execution_count": 6,
   "metadata": {},
   "outputs": [],
   "source": [
    "docs = loader.load()"
   ]
  },
  {
   "cell_type": "markdown",
   "metadata": {},
   "source": [
    "## Semantic chunking of the docs"
   ]
  },
  {
   "cell_type": "code",
   "execution_count": null,
   "metadata": {},
   "outputs": [],
   "source": [
    "from langchain_experimental.text_splitter import SemanticChunker\n",
    "from langchain_openai.embeddings import OpenAIEmbeddings\n",
    "from langchain.callbacks import get_openai_callback\n",
    "callback = get_openai_callback()\n",
    "\n",
    "embeddings = OpenAIEmbeddings(model = \"text-embedding-3-small\", openai_api_key=openai_api_key)\n"
   ]
  },
  {
   "cell_type": "code",
   "execution_count": 11,
   "metadata": {},
   "outputs": [],
   "source": [
    "splitter = SemanticChunker(OpenAIEmbeddings())\n",
    "with callback:\n",
    "    chunks  = splitter.split_documents(docs)\n"
   ]
  },
  {
   "cell_type": "code",
   "execution_count": 12,
   "metadata": {},
   "outputs": [
    {
     "ename": "AttributeError",
     "evalue": "'_GeneratorContextManager' object has no attribute 'total_tokens'",
     "output_type": "error",
     "traceback": [
      "\u001b[0;31m---------------------------------------------------------------------------\u001b[0m",
      "\u001b[0;31mAttributeError\u001b[0m                            Traceback (most recent call last)",
      "Cell \u001b[0;32mIn[12], line 1\u001b[0m\n\u001b[0;32m----> 1\u001b[0m \u001b[38;5;28mprint\u001b[39m(\u001b[38;5;124mf\u001b[39m\u001b[38;5;124m\"\u001b[39m\u001b[38;5;124mTotal tokens used: \u001b[39m\u001b[38;5;132;01m{\u001b[39;00m\u001b[43mcallback\u001b[49m\u001b[38;5;241;43m.\u001b[39;49m\u001b[43mtotal_tokens\u001b[49m\u001b[38;5;132;01m}\u001b[39;00m\u001b[38;5;124m\"\u001b[39m)\n\u001b[1;32m      2\u001b[0m \u001b[38;5;28mprint\u001b[39m(\u001b[38;5;124mf\u001b[39m\u001b[38;5;124m\"\u001b[39m\u001b[38;5;124mTotal cost: $\u001b[39m\u001b[38;5;132;01m{\u001b[39;00mcallback\u001b[38;5;241m.\u001b[39mtotal_cost\u001b[38;5;132;01m:\u001b[39;00m\u001b[38;5;124m.6f\u001b[39m\u001b[38;5;132;01m}\u001b[39;00m\u001b[38;5;124m\"\u001b[39m)\n",
      "\u001b[0;31mAttributeError\u001b[0m: '_GeneratorContextManager' object has no attribute 'total_tokens'"
     ]
    }
   ],
   "source": [
    "print(f\"Total tokens used: {callback.total_tokens}\")\n",
    "print(f\"Total cost: ${callback.total_cost:.6f}\")\n"
   ]
  },
  {
   "cell_type": "markdown",
   "metadata": {},
   "source": [
    "Now, let's use LLMGraphTransformer from Langchain to construct Knowledge Graph."
   ]
  },
  {
   "cell_type": "code",
   "execution_count": null,
   "metadata": {},
   "outputs": [],
   "source": [
    "from langchain_experimental.graph_transformers import LLMGraphTransformer\n",
    "llm_transformer = LLMGraphTransformer(llm=llm)"
   ]
  },
  {
   "cell_type": "code",
   "execution_count": null,
   "metadata": {},
   "outputs": [],
   "source": [
    "graph_documents = llm_transformer.convert_to_graph_documents(chunks)\n",
    "print(f\"Nodes: {graph_documents[0].nodes}\")\n",
    "print(f\"Relationships:{graph_documents[0].relationships}\")"
   ]
  },
  {
   "cell_type": "code",
   "execution_count": null,
   "metadata": {},
   "outputs": [],
   "source": [
    "from langchain_neo4j import Neo4jGraph"
   ]
  },
  {
   "cell_type": "markdown",
   "metadata": {},
   "source": [
    "Let's initialize the neo4j graph."
   ]
  },
  {
   "cell_type": "code",
   "execution_count": null,
   "metadata": {},
   "outputs": [],
   "source": [
    "graph = Neo4jGraph(\n",
    "    database=\"my-new-db\",\n",
    "    url=neo4j_uri,\n",
    "    username=neo4j_username,\n",
    "    password=neo4j_password\n",
    ")"
   ]
  },
  {
   "cell_type": "code",
   "execution_count": null,
   "metadata": {},
   "outputs": [],
   "source": [
    "# adding the graph documents to the graph\n",
    "graph.add_graph_documents(\n",
    "    graph_documents,\n",
    "    baseEntityLabel=True,\n",
    "    include_source=True\n",
    ")"
   ]
  },
  {
   "cell_type": "code",
   "execution_count": null,
   "metadata": {},
   "outputs": [],
   "source": [
    "print(graph)"
   ]
  },
  {
   "cell_type": "code",
   "execution_count": null,
   "metadata": {},
   "outputs": [],
   "source": [
    "print(graph_documents)"
   ]
  },
  {
   "cell_type": "code",
   "execution_count": null,
   "metadata": {},
   "outputs": [],
   "source": [
    "print(graph.get_schema)"
   ]
  },
  {
   "cell_type": "code",
   "execution_count": null,
   "metadata": {},
   "outputs": [],
   "source": [
    "! pip install --quiet yfiles_jupyter_graphs"
   ]
  },
  {
   "cell_type": "code",
   "execution_count": null,
   "metadata": {},
   "outputs": [],
   "source": [
    "from neo4j import GraphDatabase\n",
    "from yfiles_jupyter_graphs import GraphWidget\n",
    "\n",
    "def showGraph():\n",
    "    driver = GraphDatabase.driver(\n",
    "        uri=neo4j_uri,\n",
    "        auth=(neo4j_username, neo4j_password)\n",
    "    )\n",
    "    session = driver.session()\n",
    "    widget = GraphWidget(graph=session.run(\"MATCH (s)-[r:!MENTIONS]->(t) RETURN s, r, t\").graph())\n",
    "    widget.node_label_mapping = 'id'\n",
    "    return widget\n",
    "\n"
   ]
  },
  {
   "cell_type": "code",
   "execution_count": null,
   "metadata": {},
   "outputs": [],
   "source": [
    "showGraph()"
   ]
  },
  {
   "cell_type": "markdown",
   "metadata": {},
   "source": [
    "## Now let's query the Graph Database. We will provide a query in Natural Language and the langchain's GraphCypherQAChain would convert it into the Cypher query and retrieve the required info from the graph."
   ]
  },
  {
   "cell_type": "code",
   "execution_count": null,
   "metadata": {},
   "outputs": [],
   "source": [
    "from langchain.chains import GraphCypherQAChain"
   ]
  },
  {
   "cell_type": "code",
   "execution_count": null,
   "metadata": {},
   "outputs": [],
   "source": [
    "chain = GraphCypherQAChain.from_llm(\n",
    "    ChatOpenAI(temperature=0), graph=graph, verbose=True, allow_dangerous_requests=True\n",
    ")"
   ]
  },
  {
   "cell_type": "markdown",
   "metadata": {},
   "source": [
    "Got this error due to incompatible langchain version. Let's upgrade langchain and use langchain_community instead."
   ]
  },
  {
   "cell_type": "code",
   "execution_count": null,
   "metadata": {},
   "outputs": [],
   "source": [
    "! pip install --upgrade langchain langchain-community langchain-neo4j\n"
   ]
  },
  {
   "cell_type": "code",
   "execution_count": null,
   "metadata": {},
   "outputs": [],
   "source": [
    "from langchain_community.graphs import Neo4jGraph  \n",
    "\n",
    "graph = Neo4jGraph(\n",
    "    database=\"neo4j\",\n",
    "    url=neo4j_uri,\n",
    "    username=neo4j_username,\n",
    "    password=neo4j_password\n",
    ")"
   ]
  },
  {
   "cell_type": "code",
   "execution_count": null,
   "metadata": {},
   "outputs": [],
   "source": [
    "chain = GraphCypherQAChain.from_llm(\n",
    "    ChatOpenAI(temperature=0), graph=graph, verbose=True, allow_dangerous_requests=True\n",
    ")"
   ]
  },
  {
   "cell_type": "code",
   "execution_count": null,
   "metadata": {},
   "outputs": [],
   "source": [
    "chain.invoke({\"query\": \"who co-founded Anthropic?\"})"
   ]
  },
  {
   "cell_type": "markdown",
   "metadata": {},
   "source": []
  },
  {
   "cell_type": "markdown",
   "metadata": {},
   "source": [
    "## For now LLM decideds nodes and relationships itself using the LLMGraphTransformer from Langchain. Now let's define system message and human message and chain it to the LLMGraphTransformer"
   ]
  },
  {
   "cell_type": "code",
   "execution_count": 9,
   "metadata": {},
   "outputs": [],
   "source": [
    "from langchain_core.prompts import PromptTemplate"
   ]
  },
  {
   "cell_type": "code",
   "execution_count": 23,
   "metadata": {},
   "outputs": [],
   "source": [
    "from langchain_core.prompts import SystemMessagePromptTemplate, PromptTemplate\n",
    "\n",
    "system_prompt = SystemMessagePromptTemplate.from_template(\"\"\"\n",
    "Knowledge Graph Extraction Guidelines:\n",
    "                                                          \n",
    "### Important: Avoid using duplicate nodes or relationships. For example Growth Opportunites and Growth_Opportunities must be same node.\n",
    "\n",
    "1. Overview\n",
    "You are an advanced algorithm designed to extract structured information for building a knowledge graph.\n",
    "\n",
    "Capture as much information as possible without sacrificing accuracy.\n",
    "\n",
    "Do not add any information that is not explicitly stated in the text.\n",
    "\n",
    "2. Nodes\n",
    "Entities and concepts are represented as nodes.\n",
    "\n",
    "Ensure clarity and simplicity, making the knowledge graph accessible to a wide audience.\n",
    "\n",
    "Node Labeling\n",
    "Consistency: Use basic and general labels for node types.\n",
    "\n",
    "Example: Label a person as \"person\" instead of \"scientist\" or \"mathematician\".\n",
    "\n",
    "Node IDs:\n",
    "\n",
    "Do not use integers as node IDs.\n",
    "\n",
    "Use human-readable identifiers from the text.\n",
    "\n",
    "3. Relationships\n",
    "Relationships connect entities and concepts.\n",
    "\n",
    "Use consistent, general, and timeless relationship types.\n",
    "\n",
    "DO NOT use momentary or overly specific relationship types (e.g., \"BECAME_PROFESSOR\").\n",
    "\n",
    "USE general types instead (e.g., \"PROFESSOR\").\n",
    "\n",
    "4. Coreference Resolution\n",
    "Ensure entity consistency throughout the knowledge graph.\n",
    "\n",
    "When an entity is mentioned multiple times with variations (e.g., \"John Doe,\" \"Joe,\" \"he\"), always use the most complete identifier (e.g., \"John Doe\").\n",
    "\n",
    "5. Strict Compliance\n",
    "Follow these rules precisely.\n",
    "\n",
    "Non-compliance will result in termination.\n",
    "\n",
    "\n",
    "\n",
    " \"\"\")\n",
    "\n"
   ]
  },
  {
   "cell_type": "code",
   "execution_count": null,
   "metadata": {},
   "outputs": [],
   "source": [
    "from langchain.prompts import HumanMessagePromptTemplate\n",
    "from langchain_experimental.graph_transformers.llm import ChatPromptTemplate\n",
    "from langchain_experimental.graph_transformers.llm import LLMGraphTransformer\n",
    "\n",
    "\n",
    "human_prompt = HumanMessagePromptTemplate(\n",
    "    prompt = PromptTemplate.from_template(\"\"\"\n",
    "You are tasked with extracting a knowledge graph from a document titled \"Advancements in Artificial Intelligence: A Comprehensive Overview\".\n",
    "\n",
    "Design a schema and extract entities and relationships to construct a Neo4j knowledge graph that captures:\n",
    "\n",
    "Entities (Nodes):\n",
    "- Organizations: OpenAI, Anthropic, DeepSeek, Google DeepMind, Microsoft, Nvidia.\n",
    "- Researchers: Key individuals mentioned for organization transitions.\n",
    "- AI Models: GPT-4, Claude, DeepSeek-V3, AlphaGo, o3, Gemini.\n",
    "- Concepts: AI Ethics, AI Safety, AGI (Artificial General Intelligence), AI Democratization.\n",
    "\n",
    "Relationships (Edges):\n",
    "- Developed_By (Model ➔ Organization)\n",
    "- Founded_By (Researcher ➔ Organization)\n",
    "- Collaborates_With (Organization ➔ Organization)\n",
    "- Transitioned_From_To (Researcher ➔ Organization ➔ Organization)\n",
    "- Focuses_On (Organization ➔ Concept)\n",
    "- Enables (Technology ➔ Application)\n",
    "\n",
    "Instructions:\n",
    "- Extract key entities and associate them with appropriate labels (e.g., Organization, Researcher, Model, Concept).\n",
    "- Create meaningful relationships based on the document context.\n",
    "- Capture important thematic concepts like AI safety, open-source AI, AGI, multimodal AI, and ethical AI development.\n",
    "- Focus particularly on key player organizations, model developments, researcher movements, and societal implications.\n",
    "\n",
    "Output:\n",
    "- List of Nodes (with labels and properties).\n",
    "- List of Relationships (with source node, target node, relationship type).\n",
    "- Generate Cypher queries to create these nodes and relationships in Neo4j.\n",
    "\"\n",
    "\n",
    "\n",
    "\"\"\")\n",
    "    \n",
    ")\n"
   ]
  },
  {
   "cell_type": "code",
   "execution_count": 25,
   "metadata": {},
   "outputs": [],
   "source": [
    "chat_prompt = ChatPromptTemplate.from_messages([system_prompt, human_prompt])"
   ]
  },
  {
   "cell_type": "code",
   "execution_count": 35,
   "metadata": {},
   "outputs": [],
   "source": [
    "from langchain_openai import ChatOpenAI\n",
    "import os\n",
    "llm= ChatOpenAI(model=\"gpt-4o\", api_key=os.getenv(\"OPENAI_API_KEY\"))"
   ]
  },
  {
   "cell_type": "code",
   "execution_count": 36,
   "metadata": {},
   "outputs": [],
   "source": [
    "llm_transformer = LLMGraphTransformer(\n",
    "    llm = llm,\n",
    "    prompt = chat_prompt\n",
    ")"
   ]
  },
  {
   "cell_type": "code",
   "execution_count": null,
   "metadata": {},
   "outputs": [],
   "source": []
  },
  {
   "cell_type": "code",
   "execution_count": 37,
   "metadata": {},
   "outputs": [
    {
     "name": "stdout",
     "output_type": "stream",
     "text": [
      "-----------------*Cost Estimation*------------------\n",
      "Estimated total cost: $0.1466\n",
      "Total tokens used: 35344\n",
      "Prompt tokens: 27580\n",
      "Completion tokens: 7764\n"
     ]
    }
   ],
   "source": [
    "from langchain.callbacks import get_openai_callback\n",
    " \n",
    "with get_openai_callback() as cb:\n",
    "    graph_documents = llm_transformer.convert_to_graph_documents(docs)\n",
    " \n",
    "print(\"-----------------*Cost Estimation*------------------\")\n",
    "print(f\"Estimated total cost: ${cb.total_cost:.4f}\")\n",
    "print(f\"Total tokens used: {cb.total_tokens}\")\n",
    "print(f\"Prompt tokens: {cb.prompt_tokens}\")\n",
    "print(f\"Completion tokens: {cb.completion_tokens}\")"
   ]
  },
  {
   "cell_type": "code",
   "execution_count": 39,
   "metadata": {},
   "outputs": [
    {
     "name": "stdout",
     "output_type": "stream",
     "text": [
      "-----------------*Cost Estimation*------------------\n",
      "Estimated total cost: $0.1466\n",
      "Total tokens used: 35344\n",
      "Prompt tokens: 27580\n",
      "Completion tokens: 7764\n"
     ]
    }
   ],
   "source": [
    "print(\"-----------------*Cost Estimation*------------------\")\n",
    "print(f\"Estimated total cost: ${cb.total_cost:.4f}\")\n",
    "print(f\"Total tokens used: {cb.total_tokens}\")\n",
    "print(f\"Prompt tokens: {cb.prompt_tokens}\")\n",
    "print(f\"Completion tokens: {cb.completion_tokens}\")"
   ]
  },
  {
   "cell_type": "code",
   "execution_count": 38,
   "metadata": {},
   "outputs": [
    {
     "data": {
      "text/plain": [
       "[GraphDocument(nodes=[Node(id='Cloud Marketplaces', type='Entity', properties={}), Node(id='Isvs', type='Entity', properties={}), Node(id='Enterprise Users', type='Entity', properties={}), Node(id='Cloud Service Providers', type='Entity', properties={}), Node(id='Growth Opportunities', type='Concept', properties={})], relationships=[Relationship(source=Node(id='Cloud Marketplaces', type='Entity', properties={}), target=Node(id='Software Procurement', type='Concept', properties={}), type='ENABLE', properties={}), Relationship(source=Node(id='Isvs', type='Entity', properties={}), target=Node(id='Software', type='Concept', properties={}), type='OFFER', properties={}), Relationship(source=Node(id='Cloud Service Providers', type='Entity', properties={}), target=Node(id='Cloud Marketplaces', type='Entity', properties={}), type='HOST', properties={}), Relationship(source=Node(id='Enterprise Users', type='Entity', properties={}), target=Node(id='Cloud Marketplaces', type='Entity', properties={}), type='UTILIZE', properties={}), Relationship(source=Node(id='Growth Opportunities', type='Concept', properties={}), target=Node(id='Isvs', type='Entity', properties={}), type='IMPACT', properties={}), Relationship(source=Node(id='Growth Opportunities', type='Concept', properties={}), target=Node(id='Cloud Service Providers', type='Entity', properties={}), type='IMPACT', properties={})], source=Document(metadata={'producer': 'Microsoft® Word for Microsoft 365', 'creator': 'Microsoft® Word for Microsoft 365', 'creationdate': '2023-10-18T13:00:16+05:30', 'author': 'CMendez', 'moddate': '2023-10-18T13:00:16+05:30', 'source': './cloud.pdf', 'total_pages': 28, 'page': 0, 'page_label': '1', 'id': 'eda14fee911ee2df2298818d01ecbd70'}, page_content='Growth Opportunities \\nfor Cloud Marketplaces  \\nThe Growth Pipeline™ Company \\nPowering clients towards a future shaped by growth \\nThe Current State and Future \\nEvolution of Enterprise Solutions \\nin a Digital Ecosystem \\nG l o b a l  I n f o r m a t i o n  & \\nC o m m u n i c a t i o n s  T e c h n o l o g i e s \\nR e s e a r c h  T e a m  a t  F r o s t  &  S u l l i v a n \\nK 9 6 9- 72  \\nO c t o b e r  2 0 2 3')),\n",
       " GraphDocument(nodes=[Node(id='Cloud Marketplaces', type='Entity', properties={}), Node(id='Isvs', type='Entity', properties={}), Node(id='Enterprise Users', type='Entity', properties={}), Node(id='Cloud Service Providers', type='Entity', properties={}), Node(id='Growth Opportunities', type='Concept', properties={})], relationships=[Relationship(source=Node(id='Cloud Marketplaces', type='Entity', properties={}), target=Node(id='Software Procurement', type='Concept', properties={}), type='ENABLES', properties={}), Relationship(source=Node(id='Isvs', type='Entity', properties={}), target=Node(id='Cloud Marketplaces', type='Entity', properties={}), type='OFFER', properties={}), Relationship(source=Node(id='Cloud Service Providers', type='Entity', properties={}), target=Node(id='Cloud Marketplaces', type='Entity', properties={}), type='HOST', properties={}), Relationship(source=Node(id='Enterprise Users', type='Entity', properties={}), target=Node(id='Cloud Marketplaces', type='Entity', properties={}), type='UTILIZE', properties={}), Relationship(source=Node(id='Growth Opportunities', type='Concept', properties={}), target=Node(id='Isvs', type='Entity', properties={}), type='IMPACT', properties={}), Relationship(source=Node(id='Growth Opportunities', type='Concept', properties={}), target=Node(id='Cloud Service Providers', type='Entity', properties={}), type='IMPACT', properties={})], source=Document(metadata={'producer': 'Microsoft® Word for Microsoft 365', 'creator': 'Microsoft® Word for Microsoft 365', 'creationdate': '2023-10-18T13:00:16+05:30', 'author': 'CMendez', 'moddate': '2023-10-18T13:00:16+05:30', 'source': './cloud.pdf', 'total_pages': 28, 'page': 1, 'page_label': '2', 'id': 'a7a51f0f6a9bf0c2a3b45796e4562be5'}, page_content='Sullivan  \\n \\nGrowth Opportunities for Cloud Marketplaces \\nK969-72 2 \\nTable of Contents \\nIntroduction ................................ ................................ ................................ ................................ ..................  3 \\nThe Strategic Imperative 8 TM ................................ ................................ ................................ ........................  5 \\nStrategic Imperative for the Cloud Marketplace Industry ………………………………………………………………  ..... 6 \\nGrowth Environment  ................................ ................................ ................................ ................................ .... 8 \\nTransformation of the Procurement and Sales Processes ………………………………………………………………  ..... 8 \\nSimplified Billing and Pre -committed Spend in Marketplaces ………………………………………………………  ....... 9 \\nCo-selling Opportunities in Marketplaces ……………………………………………………………………………………  ...... 10 \\nPrivate Marketplaces …………………………………………………………………………………………………………………..  ...... 11 \\nIT Professional Services ……………………………………………………………………………………………………………….  ...... 11 \\nHelping ISVs with their Marketplace Strategy: Tackle.io  ................................ ................................ .............  12 \\nMarketplace Provider Company profiles  ................................ ................................ ................................ ..... 13 \\nAWS Marketplace……………………………………………………………………………………………………………………… .. ..... 13 \\nGoogle Cloud Marketplace …………………………………………………………………………………………………………..  ..... 16 \\nSalesforce AppExchange ………………………………………………………………………………………………………………  ..... 17 \\nMicrosoft Azure Marketplace ………………………………………………………………………………………………………  ...... 18 \\nGrowth Opportunity Universe, Cloud Marketplace Industry  ................................ ................................ ...... 20 \\nGrowth Opportunity 1: Marketplac e Co-selling for SaaS ……………………………………………………………..  ..... 20 \\nGrowth Opportunity 2: Streamlined Software Procurement for Enterprise Users ………………………. ..... 22 \\nGrowth Opportunity 3: Private Marketplaces for Enhanced Software Procurement Experience…...... 24 \\nThe Last Word ................................ ................................ ................................ ................................ .............  26 \\nGrowth Pipeline Engine TM ................................ ................................ ................................ ...........................  27 \\nLegal Disclaimer  ................................ ................................ ................................ ................................ .......... 28')),\n",
       " GraphDocument(nodes=[Node(id='Cloud Marketplaces', type='Concept', properties={}), Node(id='Isvs', type='Entity', properties={}), Node(id='Enterprise Users', type='Entity', properties={}), Node(id='Cloud Service Providers', type='Entity', properties={}), Node(id='Growth Opportunities', type='Concept', properties={}), Node(id='Strategic Imperatives', type='Concept', properties={}), Node(id='Procurement Transformation', type='Concept', properties={}), Node(id='Co-Selling', type='Concept', properties={}), Node(id='Private Marketplaces', type='Concept', properties={})], relationships=[Relationship(source=Node(id='Cloud Marketplaces', type='Concept', properties={}), target=Node(id='Isvs', type='Entity', properties={}), type='ENABLE', properties={}), Relationship(source=Node(id='Isvs', type='Entity', properties={}), target=Node(id='Cloud Marketplaces', type='Concept', properties={}), type='OFFER', properties={}), Relationship(source=Node(id='Cloud Service Providers', type='Entity', properties={}), target=Node(id='Cloud Marketplaces', type='Concept', properties={}), type='HOST', properties={}), Relationship(source=Node(id='Enterprise Users', type='Entity', properties={}), target=Node(id='Cloud Marketplaces', type='Concept', properties={}), type='UTILIZE', properties={}), Relationship(source=Node(id='Growth Opportunities', type='Concept', properties={}), target=Node(id='Isvs', type='Entity', properties={}), type='IMPACT', properties={}), Relationship(source=Node(id='Growth Opportunities', type='Concept', properties={}), target=Node(id='Cloud Service Providers', type='Entity', properties={}), type='IMPACT', properties={}), Relationship(source=Node(id='Growth Opportunities', type='Concept', properties={}), target=Node(id='Strategic Imperatives', type='Concept', properties={}), type='RELATED_TO', properties={}), Relationship(source=Node(id='Growth Opportunities', type='Concept', properties={}), target=Node(id='Procurement Transformation', type='Concept', properties={}), type='RELATED_TO', properties={}), Relationship(source=Node(id='Growth Opportunities', type='Concept', properties={}), target=Node(id='Co-Selling', type='Concept', properties={}), type='RELATED_TO', properties={}), Relationship(source=Node(id='Growth Opportunities', type='Concept', properties={}), target=Node(id='Private Marketplaces', type='Concept', properties={}), type='RELATED_TO', properties={})], source=Document(metadata={'producer': 'Microsoft® Word for Microsoft 365', 'creator': 'Microsoft® Word for Microsoft 365', 'creationdate': '2023-10-18T13:00:16+05:30', 'author': 'CMendez', 'moddate': '2023-10-18T13:00:16+05:30', 'source': './cloud.pdf', 'total_pages': 28, 'page': 2, 'page_label': '3', 'id': '6d3f7d94ee78f31609eb998e205c47de'}, page_content=\"Sullivan  \\n \\nGrowth Opportunities for Cloud Marketplaces \\nK969-72 3 \\n \\nIntroduction \\nIn the past decade, organizations have increasingly turned to the cloud to support their digital \\noperations because it is a more efficient way to host data and support systems. The cloud has \\nfueled the expanding digital ecosystem, with infrastructure, platform, and software providers \\ncooperating to deliver full enterprise solutions. The rise of cloud marketplaces can be framed \\nwithin this new paradigm. These are commerce platforms designed to enable the cloud services \\necosystem and its utilization by organizations. \\nCloud marketplaces were created to facilitate organizations’ search, acquisition, and \\nimplementation of software that runs on a cloud provider's infrastructure. They are designed to \\nstreamline potentially lengthy processes through which independent software vendors promote \\nand sell their software, and where end users acquire and implement the software within the cloud \\ninfrastructure.  \\nPublic cloud infrastructure service providers want their marketplaces to act as storefronts where \\nsoftware providers can promote and sell products to companies. More importantly, they seek to \\ntransform these markets into an inclusive business model where independent software vendors \\n(ISVs) are true partners, fully integrated into the cloud ecosystem, and final cloud users are willingly \\ncaptive clients with little need to venture outside their ecosystem. In addition, cloud infrastructure \\nproviders benefit from a broader utilization of their servers and platform services, which is a new \\nway to attract and retain customers. \\nFor companies using cloud services, cloud marketplaces provide a streamlined acquisition process, \\nintegrated billing systems, and access to a wide range of third-party applications and services. \\nEffectively using cloud marketplaces offers several user advantages, but it primarily helps optimize \\ninternal costs and unlocks significant growth potential. This gives users enhanced flexibility and \\naccess to cutting-edge technologies and valuable resources. It also assures buyers that the software \\nthey purchase on the marketplace has been vetted by the cloud service provider as fully integrated \\nwith the cloud services, thus avoiding the burden of custom integration.  \\nFor ISVs, marketplaces offer the same integrated billing and customer management functionality \\nbenefiting enterprise users. It also provides access to potential customers who otherwise might not \\nhave had initial contact with their service offerings.\")),\n",
       " GraphDocument(nodes=[Node(id='Cloud_Marketplaces', type='Concept', properties={}), Node(id='Isvs', type='Entity', properties={}), Node(id='Enterprise_Users', type='Entity', properties={}), Node(id='Cloud_Service_Providers', type='Entity', properties={}), Node(id='Growth_Opportunities', type='Concept', properties={})], relationships=[Relationship(source=Node(id='Cloud_Marketplaces', type='Concept', properties={}), target=Node(id='Software_Procurement', type='Concept', properties={}), type='ENABLE', properties={}), Relationship(source=Node(id='Isvs', type='Entity', properties={}), target=Node(id='Cloud_Marketplaces', type='Concept', properties={}), type='OFFER_SOFTWARE_ON', properties={}), Relationship(source=Node(id='Cloud_Service_Providers', type='Entity', properties={}), target=Node(id='Cloud_Marketplaces', type='Concept', properties={}), type='HOST', properties={}), Relationship(source=Node(id='Enterprise_Users', type='Entity', properties={}), target=Node(id='Cloud_Marketplaces', type='Concept', properties={}), type='UTILIZE_FOR_PROCUREMENT', properties={}), Relationship(source=Node(id='Growth_Opportunities', type='Concept', properties={}), target=Node(id='Isvs', type='Entity', properties={}), type='IMPACT', properties={}), Relationship(source=Node(id='Growth_Opportunities', type='Concept', properties={}), target=Node(id='Cloud_Service_Providers', type='Entity', properties={}), type='IMPACT', properties={})], source=Document(metadata={'producer': 'Microsoft® Word for Microsoft 365', 'creator': 'Microsoft® Word for Microsoft 365', 'creationdate': '2023-10-18T13:00:16+05:30', 'author': 'CMendez', 'moddate': '2023-10-18T13:00:16+05:30', 'source': './cloud.pdf', 'total_pages': 28, 'page': 3, 'page_label': '4', 'id': '7093cfe0302bf8fc5d9a6bfbe483cfe8'}, page_content='Sullivan  \\n \\nGrowth Opportunities for Cloud Marketplaces \\nK969-72 4 \\nIn the current scenario, cloud marketplaces do not respond to a static, specific definition; they vary \\nin intent and function. Each player in the cloud arena has introduced its marketplace for specific \\npurposes. Although they share similar features and operate under the premise of simplification, \\neach marketplace evolves within a unique context and is not comparable to its competitors. \\nTherefore, every software provider and company must evaluate which cloud infrastructure \\nprovider and marketplace best aligns with their needs and offers the most suitable opportunities to \\nattain their objectives. \\nIn this insight, Frost & Sullivan explores the role of the cloud marketplace in shaping how \\nbusinesses conduct operations and adapt to new technologies. The cloud marketplace has evolved \\nfrom an alternative sales channel to a significant revenue driver, shaping the future of cloud \\ntransactions. \\nFrost & Sullivan covers the following areas in this insight: \\n• Current features and scope of cloud marketplaces \\n• Benefits and advantages of cloud marketplaces for enterprise buyers and software \\nproviders \\n• Impact on Infrastructure as a Service (IaaS) demand \\n• Emerging opportunities for software providers and IT professionals \\n• Value chain transformation in the context of cloud marketplaces \\n• Business strategies of different cloud marketplaces')),\n",
       " GraphDocument(nodes=[Node(id='Cloud Marketplaces', type='Entity', properties={}), Node(id='Isvs', type='Entity', properties={}), Node(id='Enterprise Users', type='Entity', properties={}), Node(id='Cloud Service Providers', type='Entity', properties={}), Node(id='Growth Opportunities', type='Concept', properties={})], relationships=[Relationship(source=Node(id='Cloud Marketplaces', type='Entity', properties={}), target=Node(id='Software Procurement', type='Concept', properties={}), type='ENABLE', properties={}), Relationship(source=Node(id='Isvs', type='Entity', properties={}), target=Node(id='Cloud Marketplaces', type='Entity', properties={}), type='OFFER', properties={}), Relationship(source=Node(id='Cloud Service Providers', type='Entity', properties={}), target=Node(id='Cloud Marketplaces', type='Entity', properties={}), type='HOST', properties={}), Relationship(source=Node(id='Enterprise Users', type='Entity', properties={}), target=Node(id='Cloud Marketplaces', type='Entity', properties={}), type='UTILIZE', properties={}), Relationship(source=Node(id='Growth Opportunities', type='Concept', properties={}), target=Node(id='Isvs', type='Entity', properties={}), type='IMPACT', properties={}), Relationship(source=Node(id='Growth Opportunities', type='Concept', properties={}), target=Node(id='Cloud Service Providers', type='Entity', properties={}), type='IMPACT', properties={})], source=Document(metadata={'producer': 'Microsoft® Word for Microsoft 365', 'creator': 'Microsoft® Word for Microsoft 365', 'creationdate': '2023-10-18T13:00:16+05:30', 'author': 'CMendez', 'moddate': '2023-10-18T13:00:16+05:30', 'source': './cloud.pdf', 'total_pages': 28, 'page': 4, 'page_label': '5', 'id': '44b5ac581548967bc5b71b1b2e0c5e14'}, page_content='Sullivan  \\n \\nGrowth Opportunities for Cloud Marketplaces \\nK969-72 5 \\nThe Strategic Imperative 8TM \\nFrost & Sullivan has identified the key strategic imperatives that will impact the growth of the Cloud \\nIndustry. \\n \\n \\n \\nInnovative Business Models \\nA new revenue model that defines how a company creates and capitalizes economic value, typically \\nimpacting its value proposition, product offering, operational strategies, and brand positioning \\nCostumer Value Chain Compression  \\nCustomer value chain compression as a result of advanced technologies, internet platforms, and other \\ndirect-to-consumer models that enables reduction in friction and the number of steps in customer journeys')),\n",
       " GraphDocument(nodes=[Node(id='Cloud Marketplaces', type='Entity', properties={}), Node(id='Isvs', type='Entity', properties={}), Node(id='Enterprise Users', type='Entity', properties={}), Node(id='Cloud Service Providers', type='Entity', properties={}), Node(id='Growth Opportunities', type='Concept', properties={})], relationships=[Relationship(source=Node(id='Cloud Marketplaces', type='Entity', properties={}), target=Node(id='Software Procurement', type='Concept', properties={}), type='ENABLE', properties={}), Relationship(source=Node(id='Isvs', type='Entity', properties={}), target=Node(id='Cloud Marketplaces', type='Entity', properties={}), type='OFFER_SOFTWARE', properties={}), Relationship(source=Node(id='Cloud Service Providers', type='Entity', properties={}), target=Node(id='Cloud Marketplaces', type='Entity', properties={}), type='HOST', properties={}), Relationship(source=Node(id='Enterprise Users', type='Entity', properties={}), target=Node(id='Cloud Marketplaces', type='Entity', properties={}), type='UTILIZE', properties={}), Relationship(source=Node(id='Growth Opportunities', type='Concept', properties={}), target=Node(id='Isvs', type='Entity', properties={}), type='IMPACT', properties={}), Relationship(source=Node(id='Growth Opportunities', type='Concept', properties={}), target=Node(id='Cloud Service Providers', type='Entity', properties={}), type='IMPACT', properties={})], source=Document(metadata={'producer': 'Microsoft® Word for Microsoft 365', 'creator': 'Microsoft® Word for Microsoft 365', 'creationdate': '2023-10-18T13:00:16+05:30', 'author': 'CMendez', 'moddate': '2023-10-18T13:00:16+05:30', 'source': './cloud.pdf', 'total_pages': 28, 'page': 5, 'page_label': '6', 'id': 'b106f32dd790b80b56f22fdcbf337a93'}, page_content='Sullivan  \\n \\nGrowth Opportunities for Cloud Marketplaces \\nK969-72 6 \\nTransformative Mega Trends \\nTransformative, global forces that define the future world with their far-reaching effects on businesses, \\nsocieties, economies, cultures, and personal lives \\nInternal Challenges \\nThe internal organizational behaviors that prevent a company from making required changes \\nCompetitive Intensity  \\nA new wave of competition from start-ups and digital business models that challenge the standing \\nconventions of the past, compelling established industries to re-think their competitive stance \\nGeopolitical Chaos  \\nChaos and disorder arising from political discord, natural calamities, pandemics, and social unrest that \\nimpact global trade, collaboration, and business security \\nDisruptive Technologies  \\nNew, disruptive technologies that are displacing the old, and significantly altering the way consumers, \\nindustries, or businesses operate  \\nIndustry Convergence \\nCollaboration between previously disparate industries to deliver on whitespace cross-industry growth \\nopportunities \\nStrategic Imperative for the Cloud Marketplace Industry \\nParticipants in the cloud marketplace space address a number of Frost & Sullivan’s strategic \\nimperatives.   \\nInnovative Business Models \\nCloud marketplaces have reconfigured the business processes of software-as-a-service providers by \\nstreamlining the promotion, acquisition (via simplified billing mechanisms), and implementation of \\nsoftware.')),\n",
       " GraphDocument(nodes=[Node(id='Cloud Marketplaces', type='Entity', properties={}), Node(id='Isvs', type='Entity', properties={}), Node(id='Enterprise Users', type='Entity', properties={}), Node(id='Cloud Service Providers', type='Entity', properties={}), Node(id='Growth Opportunities', type='Concept', properties={})], relationships=[Relationship(source=Node(id='Cloud Marketplaces', type='Entity', properties={}), target=Node(id='Software Procurement', type='Concept', properties={}), type='ENABLE', properties={}), Relationship(source=Node(id='Isvs', type='Entity', properties={}), target=Node(id='Cloud Marketplaces', type='Entity', properties={}), type='OFFER', properties={}), Relationship(source=Node(id='Cloud Service Providers', type='Entity', properties={}), target=Node(id='Cloud Marketplaces', type='Entity', properties={}), type='HOST', properties={}), Relationship(source=Node(id='Enterprise Users', type='Entity', properties={}), target=Node(id='Cloud Marketplaces', type='Entity', properties={}), type='UTILIZE', properties={}), Relationship(source=Node(id='Growth Opportunities', type='Concept', properties={}), target=Node(id='Isvs', type='Entity', properties={}), type='IMPACT', properties={}), Relationship(source=Node(id='Growth Opportunities', type='Concept', properties={}), target=Node(id='Cloud Service Providers', type='Entity', properties={}), type='IMPACT', properties={})], source=Document(metadata={'producer': 'Microsoft® Word for Microsoft 365', 'creator': 'Microsoft® Word for Microsoft 365', 'creationdate': '2023-10-18T13:00:16+05:30', 'author': 'CMendez', 'moddate': '2023-10-18T13:00:16+05:30', 'source': './cloud.pdf', 'total_pages': 28, 'page': 6, 'page_label': '7', 'id': 'a309529f555e3a4e94d84ab22d2af171'}, page_content='Sullivan  \\n \\nGrowth Opportunities for Cloud Marketplaces \\nK969-72 7 \\nThese spaces have also accelerated digital innovation and provided new solutions for organizations \\noperating in the cloud by minimizing the entry barriers that software providers must overcome to \\nmake their solutions available to new clients. \\nAt the same time, the growing cloud ecosystem, which includes marketplaces, allows software \\ndevelopers to utilize free or low-cost cloud-based development tools as well as complimentary \\nprocessing and storage tiers offered by leading cloud service providers. \\nCustomer Value Chain Compression \\nThe leading marketplaces have experienced remarkable growth in recent years, largely anchored in \\na vertical integration strategy. External platforms for software promotion and acquisition are \\nincreasingly being replaced by tools provided by the marketplaces within the cloud ecosystem \\nitself. \\nIn this way, cloud infrastructure providers have expanded their reach and attracted collaborative \\nagreements with software providers. As a result, the integrated structure can now address what \\nwas not previously covered by the cloud ecosystem. \\nThis new paradigm offers enhanced opportunities for cloud providers to keep software developers, \\nbuyers, and infrastructure users in the same orbit with minimal need to seek solutions externally. \\nHowever, for enterprise users, this may present a higher risk of being locked in with a single cloud \\nprovider. \\nCompetitive Intensity \\nGiven the significant traction that expanding the cloud ecosystem provides for cloud infrastructure \\nproviders, cloud giants view their marketplaces as a central piece of their business strategy. It \\nattracts and retains potential partners, such as software providers that develop software solutions \\nbased on their own infrastructure. \\nCloud service providers bet on the fact that the greater the quantity and variety of software \\nsolutions available in the marketplaces, the more enterprise buyers will be willing to migrate or \\nscale their presence in their cloud. This leads to a growing demand for Infrastructure-as-a-Service \\n(IaaS) capacity and higher revenues.')),\n",
       " GraphDocument(nodes=[Node(id='Cloud Marketplaces', type='Concept', properties={}), Node(id='Isvs', type='Entity', properties={}), Node(id='Enterprise Users', type='Entity', properties={}), Node(id='Cloud Service Providers', type='Entity', properties={}), Node(id='Growth Opportunities', type='Concept', properties={})], relationships=[Relationship(source=Node(id='Cloud Marketplaces', type='Concept', properties={}), target=Node(id='Software Procurement', type='Concept', properties={}), type='ENABLE', properties={}), Relationship(source=Node(id='Isvs', type='Entity', properties={}), target=Node(id='Cloud Marketplaces', type='Concept', properties={}), type='OFFER', properties={}), Relationship(source=Node(id='Cloud Service Providers', type='Entity', properties={}), target=Node(id='Cloud Marketplaces', type='Concept', properties={}), type='HOST', properties={}), Relationship(source=Node(id='Enterprise Users', type='Entity', properties={}), target=Node(id='Cloud Marketplaces', type='Concept', properties={}), type='UTILIZE', properties={}), Relationship(source=Node(id='Growth Opportunities', type='Concept', properties={}), target=Node(id='Isvs', type='Entity', properties={}), type='IMPACT', properties={}), Relationship(source=Node(id='Growth Opportunities', type='Concept', properties={}), target=Node(id='Cloud Providers', type='Entity', properties={}), type='IMPACT', properties={})], source=Document(metadata={'producer': 'Microsoft® Word for Microsoft 365', 'creator': 'Microsoft® Word for Microsoft 365', 'creationdate': '2023-10-18T13:00:16+05:30', 'author': 'CMendez', 'moddate': '2023-10-18T13:00:16+05:30', 'source': './cloud.pdf', 'total_pages': 28, 'page': 7, 'page_label': '8', 'id': '8de6c3a5670ac82e7fca0a07f7b7fdeb'}, page_content=\"Sullivan  \\n \\nGrowth Opportunities for Cloud Marketplaces \\nK969-72 8 \\nAs a result, cloud providers are aggressively working to transform marketplaces into inclusive \\nbusiness models where software providers can fully integrate and become true partners in the \\necosystem's growth process. \\nGrowth Environment  \\nTransformation of the Procurement and Sales Processes \\nIn an environment where digital transformation is in full swing, for companies seeking to acquire \\nthe necessary tools to propel their growth, speed is crucial to seize market opportunities and \\nefficiently cater to clients. Companies require solutions promptly, and marketplaces enable rapid \\nand efficient digital tool access.  \\nThe convergence of cloud infrastructure providers, software developers/vendors, and enterprise \\nusers within a single space creates an ecosystem where speed, collaboration, and efficiency are the \\nnorm. As this trend evolves, we will likely witness new forms of collaboration and emerging \\nopportunities that further redefine how organizations offer and acquire solutions in the digital era. \\nMarketplaces bring together developers and software providers without geographical distinction, \\nallowing enterprise users to engage and procure solutions within a vast and expanding global \\nsoftware market with a significantly larger number of vendors than the market could offer five \\nyears ago. \\nSoftware providers’ digital solutions can reach a much broader and more diverse audience through \\ncloud marketplaces, demonstrating greater customer reach and sales opportunities. This can be \\nespecially beneficial for emerging software companies with little experience or investment in the \\nmarketing, sales, and financial tools required to turn an innovative idea into a business.  \\nUltimately, for cloud infrastructure providers, the benefit of a cloud ecosystem lies in the increased \\nutilization of their server capacity and more revenue.  The ecosystem also represents a “virtuous \\ncycle” in which the more software built on a cloud provider’s platform, the greater the value to the \\nend user, which attracts more software providers that will build software on the platform.\")),\n",
       " GraphDocument(nodes=[Node(id='Cloud Marketplaces', type='Concept', properties={}), Node(id='Isvs', type='Entity', properties={}), Node(id='Enterprise Users', type='Entity', properties={}), Node(id='Cloud Service Providers', type='Entity', properties={}), Node(id='Growth Opportunities', type='Concept', properties={})], relationships=[Relationship(source=Node(id='Cloud Marketplaces', type='Concept', properties={}), target=Node(id='Software Procurement', type='Concept', properties={}), type='ENABLE', properties={}), Relationship(source=Node(id='Isvs', type='Entity', properties={}), target=Node(id='Software', type='Concept', properties={}), type='OFFER', properties={}), Relationship(source=Node(id='Cloud Service Providers', type='Entity', properties={}), target=Node(id='Cloud Marketplaces', type='Concept', properties={}), type='HOST', properties={}), Relationship(source=Node(id='Enterprise Users', type='Entity', properties={}), target=Node(id='Cloud Marketplaces', type='Concept', properties={}), type='UTILIZE_FOR_PROCUREMENT', properties={}), Relationship(source=Node(id='Growth Opportunities', type='Concept', properties={}), target=Node(id='Isvs', type='Entity', properties={}), type='IMPACT', properties={}), Relationship(source=Node(id='Growth Opportunities', type='Concept', properties={}), target=Node(id='Cloud Service Providers', type='Entity', properties={}), type='IMPACT', properties={})], source=Document(metadata={'producer': 'Microsoft® Word for Microsoft 365', 'creator': 'Microsoft® Word for Microsoft 365', 'creationdate': '2023-10-18T13:00:16+05:30', 'author': 'CMendez', 'moddate': '2023-10-18T13:00:16+05:30', 'source': './cloud.pdf', 'total_pages': 28, 'page': 8, 'page_label': '9', 'id': 'e380c4d5b7a3719dd00485a84f9e0177'}, page_content=\"Sullivan  \\n \\nGrowth Opportunities for Cloud Marketplaces \\nK969-72 9 \\nSimplified Billing and Pre-committed Spend in Marketplaces \\nAs a strategic approach, pre-committed spend involves organizations agreeing to pay for a specific \\nlevel of cloud capacity usage provided by an IaaS provider over a fixed period. Typically, enterprise \\nusers must utilize the committed amount before the set period expires. This approach incentivizes \\nIaaS providers to make the most of the agreed-upon resources and optimize their utilization within \\nthe limited timeframe. For enterprises, it serves as a tool to manage costs and maximize the value \\nderived from their cloud investment. \\nCloud marketplaces have opened a new opportunity linked to the common use of pre-committed \\nspend contracts in the cloud environment. Major marketplaces now offer the possibility for \\nenterprise users to allocate a portion of the financial resources specified in their pre-committed \\nspend contracts to acquire software solutions. \\nThis possibility allows software providers to address a significant group of potential buyers who \\nalready have allocated funds ready for use. For SaaS companies, this benefit extends beyond new \\nsales; payment assurance is critical for software providers in cloud marketplaces. Especially for \\nsmaller companies, ensuring they collect payments from new contracts can become a considerable \\nchallenge because enterprises are used to delaying their obligations, or payments might be trapped \\nin a long process of a corporate bureaucracy. However, the dynamics of marketplaces offer a very \\nuseful solution to this common issue. \\nWhen a transaction is carried out on a cloud marketplace utilizing the pre-committed spend, a \\ndirect payment process is established. The cloud infrastructure provider can invoice the client for \\nthe marketplace-purchased software along with their own infrastructure and platform services. \\nEnterprise clients pay the cloud service provider, which then pays or credits the ISV.   \\nThis approach enhances payment security for software. Unlike the uncertainty that often arises \\nwhen collecting a payment outside of marketplaces, where the risk of non-payment or delayed \\npayment is high, marketplaces guarantee a reliable payment structure backed by the cloud \\nprovider's ecosystem. Consequently, this approach reduces the associated risks with collection and \\ngrants software providers greater financial peace of mind. \\nEmploying the marketplace as a distribution vehicle, thus, carries the notable advantage of \\nleveraging existing contracts. Instead of starting from scratch with each customer and negotiating \\nan entirely new contract, software vendors can build upon the established agreements between \\nthe organization and the cloud provider. Software acquisition becomes a natural extension of the \\nexisting contract.\")),\n",
       " GraphDocument(nodes=[Node(id='Cloud Marketplaces', type='Concept', properties={}), Node(id='Isvs', type='Concept', properties={}), Node(id='Enterprise Users', type='Concept', properties={}), Node(id='Cloud Service Providers', type='Concept', properties={}), Node(id='Growth Opportunities', type='Concept', properties={}), Node(id='Strategic Imperatives', type='Concept', properties={}), Node(id='Procurement Transformation', type='Concept', properties={}), Node(id='Co-Selling', type='Concept', properties={}), Node(id='Private Marketplaces', type='Concept', properties={})], relationships=[Relationship(source=Node(id='Cloud Marketplaces', type='Concept', properties={}), target=Node(id='Software Procurement', type='Concept', properties={}), type='ENABLE', properties={}), Relationship(source=Node(id='Isvs', type='Concept', properties={}), target=Node(id='Cloud Marketplaces', type='Concept', properties={}), type='OFFER', properties={}), Relationship(source=Node(id='Cloud Service Providers', type='Concept', properties={}), target=Node(id='Cloud Marketplaces', type='Concept', properties={}), type='HOST', properties={}), Relationship(source=Node(id='Enterprise Users', type='Concept', properties={}), target=Node(id='Cloud Marketplaces', type='Concept', properties={}), type='UTILIZE', properties={}), Relationship(source=Node(id='Growth Opportunities', type='Concept', properties={}), target=Node(id='Isvs', type='Concept', properties={}), type='IMPACT', properties={}), Relationship(source=Node(id='Growth Opportunities', type='Concept', properties={}), target=Node(id='Cloud Service Providers', type='Concept', properties={}), type='IMPACT', properties={}), Relationship(source=Node(id='Strategic Imperatives', type='Concept', properties={}), target=Node(id='Growth Opportunities', type='Concept', properties={}), type='DRIVE', properties={}), Relationship(source=Node(id='Procurement Transformation', type='Concept', properties={}), target=Node(id='Enterprise Users', type='Concept', properties={}), type='AFFECT', properties={}), Relationship(source=Node(id='Co-Selling', type='Concept', properties={}), target=Node(id='Isvs', type='Concept', properties={}), type='ENABLE', properties={}), Relationship(source=Node(id='Private Marketplaces', type='Concept', properties={}), target=Node(id='Cloud Service Providers', type='Concept', properties={}), type='SUPPORT', properties={})], source=Document(metadata={'producer': 'Microsoft® Word for Microsoft 365', 'creator': 'Microsoft® Word for Microsoft 365', 'creationdate': '2023-10-18T13:00:16+05:30', 'author': 'CMendez', 'moddate': '2023-10-18T13:00:16+05:30', 'source': './cloud.pdf', 'total_pages': 28, 'page': 9, 'page_label': '10', 'id': 'a74591933c590067ff26af4e4543276d'}, page_content=\"Sullivan  \\n \\nGrowth Opportunities for Cloud Marketplaces \\nK969-72 10 \\nThis methodology significantly streamlines transactions and the billing process while notably \\nexpediting the transaction process. Enterprise users also benefit from having a single billing portal, \\nsimplifying an accounting process that can be longer, more complex, and cumbersome when \\ncarried out across multiple platforms or channels. \\nThe cloud marketplace advantage of simplified contracting saves time and reduces the inherent \\ncomplexity of negotiating individual agreements. By leveraging existing contracts, software vendors \\ncan expedite transactions and provide customers with a smoother and more efficient experience \\nwhen acquiring new products and services. \\nCo-selling Opportunities in Marketplaces \\nAnother fundamental advantage for SaaS providers in cloud marketplaces is the opportunity to \\nestablish co-selling agreements with cloud service providers. Co-selling in a marketplace is a \\npractice whereby the IaaS provider collaborates with ISVs to propel their service sales. This co-\\nselling system can offer substantial benefits for both parties involved. It allows two companies to \\nexpand their markets without the risk of self-competition and introduces new customers for \\neveryone. \\nWith their brand positioning, extensive corporate structure, and reputation, cloud service providers \\ncan actively support and promote independent software vendors whose solutions complement \\ncloud capabilities and add significant value to the provider's cloud ecosystem. The result is an \\nexceptional opportunity to drive the go-to-market strategy of SaaS providers. \\nThe key advantage for cloud infrastructure providers offering co-selling is the significant expansion \\nof their own sales (mainly, infrastructure usage). Through strategic collaboration with software \\nvendors, IaaS companies can offer solutions in their cloud ecosystems that appeal to new \\nenterprise users. \\nThus, co-selling enables cloud infrastructure providers to deliver a more comprehensive and \\nattractive ecosystem that caters to new and potential users while enhancing customer loyalty and \\nusage. By combining their infrastructure capabilities with complementary, high-value software \\nsolutions, they can offer a comprehensive package that addresses multiple needs. This model \\nenhances their overall value proposition and creates a more enticing environment for businesses \\nseeking comprehensive solutions.\")),\n",
       " GraphDocument(nodes=[Node(id='Cloud Marketplaces', type='Entity', properties={}), Node(id='Isvs', type='Entity', properties={}), Node(id='Enterprise Users', type='Entity', properties={}), Node(id='Cloud Service Providers', type='Entity', properties={}), Node(id='Growth Opportunities', type='Concept', properties={})], relationships=[Relationship(source=Node(id='Cloud Marketplaces', type='Entity', properties={}), target=Node(id='Software Procurement', type='Concept', properties={}), type='ENABLE', properties={}), Relationship(source=Node(id='Isvs', type='Entity', properties={}), target=Node(id='Cloud Marketplaces', type='Entity', properties={}), type='OFFER', properties={}), Relationship(source=Node(id='Cloud Service Providers', type='Entity', properties={}), target=Node(id='Cloud Marketplaces', type='Entity', properties={}), type='HOST', properties={}), Relationship(source=Node(id='Enterprise Users', type='Entity', properties={}), target=Node(id='Cloud Marketplaces', type='Entity', properties={}), type='UTILIZE', properties={}), Relationship(source=Node(id='Growth Opportunities', type='Concept', properties={}), target=Node(id='Isvs', type='Entity', properties={}), type='IMPACT', properties={}), Relationship(source=Node(id='Growth Opportunities', type='Concept', properties={}), target=Node(id='Cloud Service Providers', type='Entity', properties={}), type='IMPACT', properties={})], source=Document(metadata={'producer': 'Microsoft® Word for Microsoft 365', 'creator': 'Microsoft® Word for Microsoft 365', 'creationdate': '2023-10-18T13:00:16+05:30', 'author': 'CMendez', 'moddate': '2023-10-18T13:00:16+05:30', 'source': './cloud.pdf', 'total_pages': 28, 'page': 10, 'page_label': '11', 'id': '7490db8620b9fc1532fd2675da1c9f84'}, page_content=\"Sullivan  \\n \\nGrowth Opportunities for Cloud Marketplaces \\nK969-72 11 \\nPrivate Marketplaces \\nA prominent cloud marketplace feature offered by major cloud market players is the private \\nmarketplace, which enables software providers to create customized digital service catalogs. These \\ncatalogs offer a unique selection of validated software for a specific enterprise customer. \\nIn this way, enterprises can give individual users or workgroups the freedom to select the software \\nthey need to do their jobs optimally while staying within corporate policies regarding cost, security, \\nor performance.   \\nEnterprises can prevent unauthorized or non-compliant purchases of cloud SaaS, ensuring that the \\ncatalogs they develop align precisely with their corporate policies. With a private marketplace, \\nenterprise end users can only access products in their specific catalog, approved by their corporate \\nIT department. This strategy reduces the possibility of individuals acquiring unauthorized software \\nand ensures they can only subscribe to items that have been reviewed and approved. \\nTo meet the diverse demands of the organization, enterprise administrators can establish multiple \\nlists of approved products. Users can identify relevant and suitable software solutions using these \\nlists, which can be tailored for specific teams or situations. \\nAdditionally, private marketplaces often provide SaaS providers the freedom to customize their \\ndigital shelves within the cloud marketplace’s interface, incorporating the organization's name, \\ndescription, logo, and color scheme. This customization reinforces the notion that users operate in \\na legitimate environment, fostering trust among potential customers. \\nIT Professional Services \\nAs part of the growing cloud ecosystem, professional services represent a new element of potential \\ngrowth and relevance within cloud marketplaces. These services encompass various solutions, \\nguidance, and personalized technical assistance for enterprise users to facilitate software \\nimplementation and optimize their transition and operations in the cloud.  According to the 2022 \\nFrost & Sullivan Global Cloud User Survey, 72% of organizations worldwide engage a professional \\nservices provider to assist with the strategy, planning, execution, or ongoing management of their \\ncloud environment. \\nCloud infrastructure providers are keenly interested in attracting professional talent to their \\nmarketplaces. A primary goal behind this is supporting workload migration to the cloud, especially \\namong small and midsized enterprises. According to the Frost & Sullivan survey, 40% of SMBs \\nutilize a professional services partner for this.\")),\n",
       " GraphDocument(nodes=[Node(id='Cloud Marketplaces', type='Concept', properties={}), Node(id='Isvs', type='Concept', properties={}), Node(id='Enterprise Users', type='Concept', properties={}), Node(id='Cloud Service Providers', type='Concept', properties={}), Node(id='Growth Opportunities', type='Concept', properties={})], relationships=[Relationship(source=Node(id='Cloud Marketplaces', type='Concept', properties={}), target=Node(id='Software Procurement', type='Concept', properties={}), type='ENABLE', properties={}), Relationship(source=Node(id='Isvs', type='Concept', properties={}), target=Node(id='Cloud Marketplaces', type='Concept', properties={}), type='OFFER', properties={}), Relationship(source=Node(id='Cloud Service Providers', type='Concept', properties={}), target=Node(id='Cloud Marketplaces', type='Concept', properties={}), type='HOST', properties={}), Relationship(source=Node(id='Enterprise Users', type='Concept', properties={}), target=Node(id='Cloud Marketplaces', type='Concept', properties={}), type='UTILIZE', properties={}), Relationship(source=Node(id='Growth Opportunities', type='Concept', properties={}), target=Node(id='Isvs', type='Concept', properties={}), type='IMPACT', properties={}), Relationship(source=Node(id='Growth Opportunities', type='Concept', properties={}), target=Node(id='Cloud Service Providers', type='Concept', properties={}), type='IMPACT', properties={})], source=Document(metadata={'producer': 'Microsoft® Word for Microsoft 365', 'creator': 'Microsoft® Word for Microsoft 365', 'creationdate': '2023-10-18T13:00:16+05:30', 'author': 'CMendez', 'moddate': '2023-10-18T13:00:16+05:30', 'source': './cloud.pdf', 'total_pages': 28, 'page': 11, 'page_label': '12', 'id': '170c092831e104ddb54e9c13a599e830'}, page_content=\"Sullivan  \\n \\nGrowth Opportunities for Cloud Marketplaces \\nK969-72 12 \\nNew cloud ecosystem software increases the need for skilled professionals to implement and \\nmanage it, especially for organizations that lack an in-house or specifically qualified IT team. Of the \\nIT decision-makers surveyed by Frost & Sullivan, 40% say that insufficient expertise in their \\norganization has been a significant challenge to implementing cloud initiatives.   \\nThis growing demand not only fuels the growth of IaaS and SaaS providers, but it also opens a \\nrange of opportunities for IT and managed services firms who find a promotional space within \\ncloud marketplaces. To explore and harness strategic collaborations that could transform the \\ndynamics of their cloud operations, it is crucial for enterprise users and ISVs to comprehend and \\nclosely follow the development of the professional services sector in marketplaces. \\nHelping ISVs with their Marketplace Strategy: Tackle.io \\nCloud marketplaces can simplify software sales, but marketplaces alone are not sufficient for many \\nISVs. In this regard, companies like Tackle.io can provide assistance not only in terms of \\nmarketplace strategies but also in the entire cloud go-to-market (Cloud GTM) approach. \\nCloud providers aim to make their marketplaces intuitive platforms that operate on the premise of \\nsimplification in all dimensions. However, these new landscapes pose significant challenges for \\norganizations historically promoting their services and processing their sales through completely \\ndifferent channels and environments. ISVs need to radically transform their go-to-market strategies \\nif they intend to seize the growth opportunities that marketplaces can offer. \\nTackle is a valuable platform that facilitates this transition to new strategies within marketplaces. \\nTackle offers a cloud GTM platform for software providers looking to scale their presence in \\nhyperscaler cloud marketplaces. The platform also serves as a solution for organizations that need \\na comprehensive strategy for conducting sales with and through cloud providers. \\nTackle provides the technology to enable multicloud distribution, thereby achieving listings in the \\nthree most relevant cloud marketplaces: Google Cloud Marketplace, Microsoft Azure Marketplace, \\nand AWS Marketplace. However, Tackle emphasizes that listing on the marketplaces is just the first \\nstep—its primary goal is to help conduct any necessary internal ISV restructuring to adapt the \\nwhole cloud GTM strategy. Once a listing is live, Tackle's clients can easily process transactions and \\ngain data access to closely monitor their cloud marketplace performance. \\nOne of the most significant aspects of Tackle’s ability to help ISVs is that it can leverage cloud \\nprovider co-selling tools for software sellers. Tackle offers a simplified path to navigating these co-\\nselling portals, through which ISVs can borrow the structures of cloud hyperscalers to promote and \\nsell their own services.\")),\n",
       " GraphDocument(nodes=[Node(id='Cloud Marketplaces', type='Concept', properties={}), Node(id='Isvs', type='Concept', properties={}), Node(id='Enterprise Users', type='Concept', properties={}), Node(id='Cloud Service Providers', type='Concept', properties={}), Node(id='Growth Opportunities', type='Concept', properties={})], relationships=[Relationship(source=Node(id='Cloud Marketplaces', type='Concept', properties={}), target=Node(id='Software Procurement', type='Concept', properties={}), type='ENABLE', properties={}), Relationship(source=Node(id='Isvs', type='Concept', properties={}), target=Node(id='Software', type='Concept', properties={}), type='OFFER', properties={}), Relationship(source=Node(id='Cloud Service Providers', type='Concept', properties={}), target=Node(id='Cloud Marketplaces', type='Concept', properties={}), type='HOST', properties={}), Relationship(source=Node(id='Enterprise Users', type='Concept', properties={}), target=Node(id='Cloud Marketplaces', type='Concept', properties={}), type='UTILIZE', properties={}), Relationship(source=Node(id='Growth Opportunities', type='Concept', properties={}), target=Node(id='Isvs', type='Concept', properties={}), type='IMPACT', properties={}), Relationship(source=Node(id='Growth Opportunities', type='Concept', properties={}), target=Node(id='Cloud Service Providers', type='Concept', properties={}), type='IMPACT', properties={})], source=Document(metadata={'producer': 'Microsoft® Word for Microsoft 365', 'creator': 'Microsoft® Word for Microsoft 365', 'creationdate': '2023-10-18T13:00:16+05:30', 'author': 'CMendez', 'moddate': '2023-10-18T13:00:16+05:30', 'source': './cloud.pdf', 'total_pages': 28, 'page': 12, 'page_label': '13', 'id': '3025ced34bc7d883503798ffb0cddad0'}, page_content='Sullivan  \\n \\nGrowth Opportunities for Cloud Marketplaces \\nK969-72 13 \\nThe alternative to using Tackle is for ISVs to attempt to build their strategies within marketplaces \\nthemselves (including updating listings, set ting up integrations, and likely build ing custom tech \\nas they scale) . However, Tackle offers a comprehensive platform, enterprise support, and strategic \\nservices to simplify and accelerate this process while maximizing success. \\nMarketplace Provider Company profiles \\nAWS Marketplace \\nAWS Marketplace is available worldwide and has helped thousands of enterprise users expand \\ntheir cloud presence. Available for over a decade, AWS Marketplace offers customers a broad \\nselection of products that provide fast access to the software solutions, professional services, and \\ndata products they need to move or operate their business in the cloud. Customers who purchase \\nin AWS Marketplace benefit from features that make procurement faster and cost-effective. \\nCustomers can accelerate modernization with new approaches to their software supply chain, such \\nas negotiating custom terms and pricing through AWS Marketplace Private Offers or by using \\nstandardized license agreements to speed up negotiations. With access to different software \\ndeployment options including Software as a Service (SaaS), Amazon Machine Images (AMIs), \\nContainer Images, Amazon Sagemaker, and AWS Data Exchange, customers can purchase and start \\nusing products quickly. AWS Marketplace also offers customers capabilities that enhance \\ngovernance and control as they manage a growing cloud infrastructure balanced by the need to \\nminimize risk exposure as they adopt new third-party solutions. \\nUnder individualized terms, volume discounts, and tailored payment options, AWS Marketplace \\nenables a streamlined software procurement process. Standardized licensing agreements allow \\ncompanies to simplify the software buying process and accelerate business innovation. AWS \\nMarketplace facilitates the search for managed services, assessments, training, premium support, \\nand other resources to bolster software adoption and management. \\nAWS marketplace integrates AWS License Manager, which enables customers to distribute, \\nactivate, and track purchased software licenses. In this line, the Custom Digital Inventory of Private \\nMarketplace offers a selection of approved software and data assets. Cost allocation tags, which \\nidentify, locate, and report performance expenses to improve cost management, allow for better \\ncost allocation among business units or cost hubs. AWS Budgets provides additional assistance in \\ntracking usage and spending in various scenarios.')),\n",
       " GraphDocument(nodes=[Node(id='Cloud Marketplaces', type='Concept', properties={}), Node(id='Isvs', type='Entity', properties={}), Node(id='Enterprise Users', type='Entity', properties={}), Node(id='Cloud Service Providers', type='Entity', properties={}), Node(id='Growth Opportunities', type='Concept', properties={}), Node(id='Procurement Transformation', type='Concept', properties={}), Node(id='Co-Selling', type='Concept', properties={}), Node(id='Private Marketplaces', type='Concept', properties={})], relationships=[Relationship(source=Node(id='Cloud Marketplaces', type='Concept', properties={}), target=Node(id='Software Procurement', type='Concept', properties={}), type='ENABLES', properties={}), Relationship(source=Node(id='Isvs', type='Entity', properties={}), target=Node(id='Cloud Marketplaces', type='Concept', properties={}), type='OFFERS_SOFTWARE_ON', properties={}), Relationship(source=Node(id='Cloud Service Providers', type='Entity', properties={}), target=Node(id='Cloud Marketplaces', type='Concept', properties={}), type='HOSTS', properties={}), Relationship(source=Node(id='Enterprise Users', type='Entity', properties={}), target=Node(id='Cloud Marketplaces', type='Concept', properties={}), type='UTILIZES_FOR_PROCUREMENT', properties={}), Relationship(source=Node(id='Growth Opportunities', type='Concept', properties={}), target=Node(id='Isvs', type='Entity', properties={}), type='IMPACTS', properties={}), Relationship(source=Node(id='Growth Opportunities', type='Concept', properties={}), target=Node(id='Cloud Service Providers', type='Entity', properties={}), type='IMPACTS', properties={}), Relationship(source=Node(id='Growth Opportunities', type='Concept', properties={}), target=Node(id='Procurement Transformation', type='Concept', properties={}), type='FOCUSES_ON', properties={}), Relationship(source=Node(id='Growth Opportunities', type='Concept', properties={}), target=Node(id='Co-Selling', type='Concept', properties={}), type='INCLUDES', properties={}), Relationship(source=Node(id='Growth Opportunities', type='Concept', properties={}), target=Node(id='Private Marketplaces', type='Concept', properties={}), type='INCLUDES', properties={})], source=Document(metadata={'producer': 'Microsoft® Word for Microsoft 365', 'creator': 'Microsoft® Word for Microsoft 365', 'creationdate': '2023-10-18T13:00:16+05:30', 'author': 'CMendez', 'moddate': '2023-10-18T13:00:16+05:30', 'source': './cloud.pdf', 'total_pages': 28, 'page': 13, 'page_label': '14', 'id': '4577d9dbedfcf6dc6cda2f852629d47d'}, page_content='Sullivan  \\n \\nGrowth Opportunities for Cloud Marketplaces \\nK969-72 14 \\nCoping with the growing demand for data, tools, and applications requires advanced machine \\nlearning algorithms and pre-built models that cover a wide range of use cases and industries—all of \\nwhich are available in AWS Marketplace. Furthermore, artificial intelligence tools enable enterprise \\nusers to streamline data experimentation and extract deeper insights from various data sources. \\nMany development teams use DevOps techniques to increase application development efficiency \\nand quality. AWS Marketplace grants access to essential tools that support the development and \\nformalization of DevOps core principles. To prevent security vulnerabilities, AWS Marketplace tools \\nalso support a secure development environment. \\nVendor Insights is another feature provided by AWS Marketplace that facilitates enterprise user \\nassessment of third-party software by offering security and compliance data in a unified \\ndashboard. Buyers have access to tests provided by the vendor on data privacy, security, and \\napplication access control, and AWS Config and AWS Audit Manager provide automatic test \\nupdates that offer continual compliance monitoring. \\nFor companies transitioning to an AWS cloud environment without their own team of professionals \\nto guide them through the process, AWS Marketplace allows users to connect and contract third-\\nparty professional IT solutions and services such as implementations, support, managed services, \\nand training. This segment within AWS Marketplace is adjacent to software purchases. \\nAWS Marketplace connects the AWS Partner community to more than 330,000 active customers \\nwith more than 2 million current software subscriptions. It hosts an extensive and diversified \\ncatalog that offers more than 15,000 products distributed across more than 70 different categories. \\nMore than 3,500 independent software vendors support this range of solutions. \\nAWS Private Marketplace \\nPrivate Marketplace is an AWS Marketplace feature that enables enterprise administrators to \\ncreate and customize curated digital catalogs of approved end-user products that conform to an \\norganization’s in-house policies. \\nThrough a customized catalog, a software provider can avoid unauthorized purchases and can \\ncustomize sales for a specific segment or buyer. Thus, enterprise users can only access products \\nthat have been approved for their pre-determined catalog once the Private Marketplace feature \\nhas been enabled.')),\n",
       " GraphDocument(nodes=[Node(id='Cloud Marketplaces', type='Entity', properties={}), Node(id='Isvs', type='Entity', properties={}), Node(id='Enterprise Users', type='Entity', properties={}), Node(id='Cloud Service Providers', type='Entity', properties={}), Node(id='Growth Opportunities', type='Concept', properties={})], relationships=[Relationship(source=Node(id='Cloud Marketplaces', type='Entity', properties={}), target=Node(id='Software Procurement', type='Concept', properties={}), type='ENABLE', properties={}), Relationship(source=Node(id='Isvs', type='Entity', properties={}), target=Node(id='Cloud Marketplaces', type='Entity', properties={}), type='OFFER', properties={}), Relationship(source=Node(id='Cloud Service Providers', type='Entity', properties={}), target=Node(id='Cloud Marketplaces', type='Entity', properties={}), type='HOST', properties={}), Relationship(source=Node(id='Enterprise Users', type='Entity', properties={}), target=Node(id='Cloud Marketplaces', type='Entity', properties={}), type='UTILIZE', properties={}), Relationship(source=Node(id='Growth Opportunities', type='Concept', properties={}), target=Node(id='Isvs', type='Entity', properties={}), type='IMPACT', properties={}), Relationship(source=Node(id='Growth Opportunities', type='Concept', properties={}), target=Node(id='Cloud Service Providers', type='Entity', properties={}), type='IMPACT', properties={})], source=Document(metadata={'producer': 'Microsoft® Word for Microsoft 365', 'creator': 'Microsoft® Word for Microsoft 365', 'creationdate': '2023-10-18T13:00:16+05:30', 'author': 'CMendez', 'moddate': '2023-10-18T13:00:16+05:30', 'source': './cloud.pdf', 'total_pages': 28, 'page': 14, 'page_label': '15', 'id': '1232d726a5162f2d346741e0b8c60995'}, page_content=\"Sullivan  \\n \\nGrowth Opportunities for Cloud Marketplaces \\nK969-72 15 \\nThis approach reduces the possibility of customers purchasing unlicensed software by ensuring that \\nthey can only subscribe to products that have been reviewed. Enterprise users can also identify the \\nmost relevant and suitable software solutions through these lists. \\nPrivate Marketplace gives administrators the freedom to modify the interface by adding the \\norganization's name, description, logo, and color scheme. This branding emphasizes that users are \\noperating in a legitimate environment, promoting trust.  \\nAnother notable feature is the software request option offered by a Private Marketplace on AWS. It \\nallows users to suggest or solicit new products for their individual catalogs. \\nSolution Provider Private Offers (SPPO) \\nAWS Marketplace's Solution Provider Private Offers (SPPO) and ISV Program are key components \\ncreated to facilitate tailored service transactions between a software provider and an enterprise \\nuser/buyer.  \\nWith SPPO, AWS Solution Providers can leverage pre-negotiated pricing without having to work \\nwith an ISV or AWS Marketplace representative on a case-by-case basis. This makes it easier to \\nextend private offers to customers and makes solutions accessible.  \\nSoftware Providers in AWS Marketplace can use this tool to generate private offers in their \\nmanaged payer accounts and extend them to customer-linked accounts. The contractual and \\nfinancial relationship between ISVs and AWS Solution Providers is maintained throughout the \\nprocess and AWS handles payment to the ISV, eliminating the need for additional purchase orders \\nor invoices. To be eligible, ISV partners must be verified in the APN ISV Accelerate program, and \\nAWS Solution Providers must be confirmed in the AWS Solution Provider Program. \\nThe Channel Partner Private Offer (CPPO) \\nThe Channel Partner Private Offer (CPPO) gives ISVs the ability to offer custom pricing to channel \\npartners for their software products. This feature allows ISVs to delegate the management of \\ncontractual relationships with customers to channel partners. \\nBy granting this authorization, channel partners have the flexibility to customize pricing, \\nsubscription durations, licensing terms for enterprise users, and any additional services they wish \\nto provide. Once the offer is created and extended, customers can easily subscribe to it through \\ntheir AWS Marketplace Management Portal.\")),\n",
       " GraphDocument(nodes=[Node(id='Cloud Marketplaces', type='Entity', properties={}), Node(id='Isvs', type='Entity', properties={}), Node(id='Enterprise Users', type='Entity', properties={}), Node(id='Cloud Service Providers', type='Entity', properties={}), Node(id='Growth Opportunities', type='Concept', properties={}), Node(id='Strategic Imperatives', type='Concept', properties={}), Node(id='Procurement Transformation', type='Concept', properties={}), Node(id='Co-Selling', type='Concept', properties={}), Node(id='Private Marketplaces', type='Concept', properties={})], relationships=[Relationship(source=Node(id='Cloud Marketplaces', type='Entity', properties={}), target=Node(id='Isvs', type='Entity', properties={}), type='ENABLE', properties={}), Relationship(source=Node(id='Isvs', type='Entity', properties={}), target=Node(id='Cloud Marketplaces', type='Entity', properties={}), type='OFFER', properties={}), Relationship(source=Node(id='Cloud Service Providers', type='Entity', properties={}), target=Node(id='Cloud Marketplaces', type='Entity', properties={}), type='HOST', properties={}), Relationship(source=Node(id='Enterprise Users', type='Entity', properties={}), target=Node(id='Cloud Marketplaces', type='Entity', properties={}), type='UTILIZE', properties={}), Relationship(source=Node(id='Growth Opportunities', type='Concept', properties={}), target=Node(id='Isvs', type='Entity', properties={}), type='IMPACT', properties={}), Relationship(source=Node(id='Growth Opportunities', type='Concept', properties={}), target=Node(id='Cloud Service Providers', type='Entity', properties={}), type='IMPACT', properties={}), Relationship(source=Node(id='Strategic Imperatives', type='Concept', properties={}), target=Node(id='Cloud Marketplaces', type='Entity', properties={}), type='INFLUENCE', properties={}), Relationship(source=Node(id='Procurement Transformation', type='Concept', properties={}), target=Node(id='Enterprise Users', type='Entity', properties={}), type='DRIVE', properties={}), Relationship(source=Node(id='Co-Selling', type='Concept', properties={}), target=Node(id='Isvs', type='Entity', properties={}), type='SUPPORT', properties={}), Relationship(source=Node(id='Private Marketplaces', type='Concept', properties={}), target=Node(id='Cloud Marketplaces', type='Entity', properties={}), type='ENHANCE', properties={})], source=Document(metadata={'producer': 'Microsoft® Word for Microsoft 365', 'creator': 'Microsoft® Word for Microsoft 365', 'creationdate': '2023-10-18T13:00:16+05:30', 'author': 'CMendez', 'moddate': '2023-10-18T13:00:16+05:30', 'source': './cloud.pdf', 'total_pages': 28, 'page': 15, 'page_label': '16', 'id': '6f35fd28d53bef2005622833491afce8'}, page_content='Sullivan  \\n \\nGrowth Opportunities for Cloud Marketplaces \\nK969-72 16 \\nThis approach enables enterprise users to purchase software solutions from AWS Marketplace \\nthrough channel partners. It allows customers to benefit from the expertise and localized support \\noffered by these partners who understand their businesses. \\nGoogle Cloud Marketplace \\nGoogle Cloud Marketplace is a digital platform that simplifies the procurement and implementation \\nof functional software packages on the Google Cloud Platform (GCP). The ease of starting these \\npackages without prior software configuration or storage expertise makes GCP an appealing choice \\nfor organizations taking their first steps into cloud computing. \\nLike its competitors, Google Cloud Marketplace revolves around the ability to easily implement \\nsoftware solutions and eliminate laborious processes or service execution bottlenecks. It also \\nstreamlines billing by allowing service consolidation for both the GCP and third parties into a single \\ninvoice, expediting the payment process for resources and licenses. \\nAnother prominent  Google Cloud Marketplace feature is its Deployment Manager, an \\ninfrastructure deployment service that facilitates resource development and administration in the \\nGoogle Cloud Platform. This tool offers flexibility by allowing the creation of templates and \\nconfiguration files that users can use to deploy sets of GCP services, such as cloud storage, \\ncompute engine, and cloud SQL. \\nGoogle Cloud Marketplace also features a partner support service that is designed to provide \\nconvenience to the customer by eliminating the need to hire expensive external services. Instead, \\nenterprise users can access professional services within a comprehensive package, simplifying and \\noptimizing their platform experience. \\nIt is important to note that many software packages on Google Cloud Marketplace are free. In \\nthese cases, the customer only needs to pay the standard GCP fee. With regard to commercial \\nsoftware, billing is based on the selected software and the Google Cloud resources used by the \\ncustomer. \\nUsage fees are itemized separately on the monthly invoice from GCP. Additionally, various factors \\ncan influence software billing, and these vary depending on the provider or type of service \\nacquired. Therefore, different billing plans are available, such as fixed hourly rates billed monthly, \\npay-as-you-go rates where the user pays only for the number of resources consumed, or payments \\nfor licenses acquired based on the specific customer needs.')),\n",
       " GraphDocument(nodes=[Node(id='Cloud Marketplaces', type='Entity', properties={}), Node(id='Isvs', type='Entity', properties={}), Node(id='Enterprise Users', type='Entity', properties={}), Node(id='Cloud Service Providers', type='Entity', properties={}), Node(id='Growth Opportunities', type='Concept', properties={})], relationships=[Relationship(source=Node(id='Cloud Marketplaces', type='Entity', properties={}), target=Node(id='Software Procurement', type='Process', properties={}), type='ENABLE', properties={}), Relationship(source=Node(id='Isvs', type='Entity', properties={}), target=Node(id='Cloud Marketplaces', type='Entity', properties={}), type='OFFER', properties={}), Relationship(source=Node(id='Cloud Service Providers', type='Entity', properties={}), target=Node(id='Cloud Marketplaces', type='Entity', properties={}), type='HOST', properties={}), Relationship(source=Node(id='Enterprise Users', type='Entity', properties={}), target=Node(id='Cloud Marketplaces', type='Entity', properties={}), type='UTILIZE', properties={}), Relationship(source=Node(id='Growth Opportunities', type='Concept', properties={}), target=Node(id='Isvs', type='Entity', properties={}), type='IMPACT', properties={}), Relationship(source=Node(id='Growth Opportunities', type='Concept', properties={}), target=Node(id='Cloud Service Providers', type='Entity', properties={}), type='IMPACT', properties={})], source=Document(metadata={'producer': 'Microsoft® Word for Microsoft 365', 'creator': 'Microsoft® Word for Microsoft 365', 'creationdate': '2023-10-18T13:00:16+05:30', 'author': 'CMendez', 'moddate': '2023-10-18T13:00:16+05:30', 'source': './cloud.pdf', 'total_pages': 28, 'page': 16, 'page_label': '17', 'id': '81fa2dc66df89a2bbee6118dc441040c'}, page_content=\"Sullivan  \\n \\nGrowth Opportunities for Cloud Marketplaces \\nK969-72 17 \\nSalesforce AppExchange \\nSalesforce AppExchange, Salesforce's cloud marketplace, is a platform that offers applications, \\ncomponents, and more designed to extend the capabilities of Salesforce, the leader in CRM \\nsoftware. Its marketplace is a vital resource for companies looking to find solutions natively built on \\nits CRM platform, significantly impacting CRM usage. \\nSalesforce AppExchange is an expanded ecosystem that extends Salesforce's market-leading CRM, \\nartificial intelligence, and data platform offerings. Its inclusion of metadata in search and machine \\nlearning algorithms ensures that users can find optimal solutions and relevant recommendations \\nbased on their specific needs. \\nUnder AppExchange, Salesforce has catalyzed its One AppExchange strategy. This aims to unify all \\nof Salesforce's marketplaces into a single platform, enabling seamless B2B and B2C commerce and \\nconsolidating the CRM user experience. These marketplaces were previously spread across seven \\ndifferent interfaces. \\nSo far, AppExchange has more than 8,000 listings in its marketplace, and 91% of customers use at \\nleast one application. Salesforce marketplace's growth has been remarkable in recent years, \\ngrowing from 4 million installations in 2016 to over 12 million in 2023. \\nSimplified Transactions and Payment Flexibility \\nLike the most relevant cloud marketplaces, AppExchange also operates on the premise of \\nsimplifying transactions, facilitating the acquisition of Salesforce applications. It focuses on offering \\npayment flexibility, which allows for the creation of customized contracts and a streamlined \\nprocurement process with a unified billing window. \\nIn this regard, Salesforce aims for AppExchange to promote pricing transparency so customers \\nknow from the outset whether an application is free, requires a subscription, or offers in-app \\npayment options. Furthermore, the expanded pricing plans menu details exactly what is included. \\nEinstein GPT \\nAppExchange apps also integrate with Einstein GPT, Salesforce’s powerful artificial intelligence-\\nbased tool. This technology seeks to reshape CRM by automatically generating personalized \\nresponses for customer queries, emails, and chats. It can empower account executives to expedite \\nthe retrieval of customer information and create personalized content.\")),\n",
       " GraphDocument(nodes=[Node(id='Cloud_Marketplaces', type='Entity', properties={}), Node(id='Isvs', type='Entity', properties={}), Node(id='Enterprise_Users', type='Entity', properties={}), Node(id='Cloud_Service_Providers', type='Entity', properties={}), Node(id='Growth_Opportunities', type='Entity', properties={})], relationships=[Relationship(source=Node(id='Cloud_Marketplaces', type='Entity', properties={}), target=Node(id='Software_Procurement', type='Concept', properties={}), type='ENABLE', properties={}), Relationship(source=Node(id='Isvs', type='Entity', properties={}), target=Node(id='Cloud_Marketplaces', type='Entity', properties={}), type='OFFER', properties={}), Relationship(source=Node(id='Cloud_Service_Providers', type='Entity', properties={}), target=Node(id='Cloud_Marketplaces', type='Entity', properties={}), type='HOST', properties={}), Relationship(source=Node(id='Enterprise_Users', type='Entity', properties={}), target=Node(id='Cloud_Marketplaces', type='Entity', properties={}), type='UTILIZE', properties={}), Relationship(source=Node(id='Growth_Opportunities', type='Entity', properties={}), target=Node(id='Isvs', type='Entity', properties={}), type='IMPACT', properties={}), Relationship(source=Node(id='Growth_Opportunities', type='Entity', properties={}), target=Node(id='Cloud_Service_Providers', type='Entity', properties={}), type='IMPACT', properties={})], source=Document(metadata={'producer': 'Microsoft® Word for Microsoft 365', 'creator': 'Microsoft® Word for Microsoft 365', 'creationdate': '2023-10-18T13:00:16+05:30', 'author': 'CMendez', 'moddate': '2023-10-18T13:00:16+05:30', 'source': './cloud.pdf', 'total_pages': 28, 'page': 17, 'page_label': '18', 'id': 'c35b0cc8eabd5eaa896c28cb24bcf4f1'}, page_content=\"Sullivan  \\n \\nGrowth Opportunities for Cloud Marketplaces \\nK969-72 18 \\nSalesforce AppExchange is a fundamental component in today's business ecosystem, especially for \\norganizations operating with Salesforce CRM. With its wide variety of applications, focus on \\nartificial intelligence, and commitment to price transparency and transaction simplicity, \\nAppExchange has the potential to reshape the way businesses operate and engage with customers. \\nMicrosoft Azure Marketplace \\nMicrosoft Azure Marketplace is a cloud-based online marketplace that provides a wide selection of \\nsoftware solutions, services, and apps made for use with the Microsoft Azure Cloud. With this \\nplatform, SaaS providers can easily publish, market, and sell their software products to clients \\nlooking to improve and expand their Azure environments. \\nISV partners supply a sizable list of products to the Microsoft commercial marketplace. Users have \\naccess to the Partner Center's creation, publication, and management tools as an ISV participating \\nin the Microsoft AI Cloud Partner Program. It is designed to increase exposure to companies, \\norganizations, and government bodies worldwide by placing solutions alongside Microsoft's \\nofferings. \\nBy allowing users to create, manage, and distribute applications using their preferred platforms \\nand programming languages, the development process is flexible. Also, the marketplace provides \\ntools for searching, storing, processing, and analyzing data in any format, enabling companies to \\ngain insightful information from their data assets.  \\nEnterprise users must have a current Azure subscription to deploy software from the Microsoft \\nAzure Marketplace. Users have two simple choices for making payments in the marketplace after \\nsuccessfully setting up their free Azure subscription—they can pay with a credit card or via invoices \\nif they already have a Microsoft purchasing relationship. \\nCloud Solution Provider Partner Private Offers \\nParticipants in Microsoft’s Cloud Solution Provider (CSP) partner program have access to a wide \\nrange of go-to-market opportunities. One of the benefits is CSP private offers, which enables ISVs \\nto offer attractive limited-time customized margins to CSPs that resell their offering via the \\nMicrosoft Azure Marketplace.\")),\n",
       " GraphDocument(nodes=[Node(id='Cloud Marketplaces', type='Entity', properties={}), Node(id='Isvs', type='Entity', properties={}), Node(id='Enterprise Users', type='Entity', properties={}), Node(id='Cloud Service Providers', type='Entity', properties={}), Node(id='Growth Opportunities', type='Entity', properties={})], relationships=[Relationship(source=Node(id='Cloud Marketplaces', type='Entity', properties={}), target=Node(id='Software Procurement', type='Concept', properties={}), type='ENABLE', properties={}), Relationship(source=Node(id='Isvs', type='Entity', properties={}), target=Node(id='Cloud Marketplaces', type='Entity', properties={}), type='OFFER_SOFTWARE_ON', properties={}), Relationship(source=Node(id='Cloud Service Providers', type='Entity', properties={}), target=Node(id='Cloud Marketplaces', type='Entity', properties={}), type='HOST', properties={}), Relationship(source=Node(id='Enterprise Users', type='Entity', properties={}), target=Node(id='Cloud Marketplaces', type='Entity', properties={}), type='UTILIZE_FOR_PROCUREMENT', properties={}), Relationship(source=Node(id='Growth Opportunities', type='Entity', properties={}), target=Node(id='Isvs', type='Entity', properties={}), type='IMPACT', properties={}), Relationship(source=Node(id='Growth Opportunities', type='Entity', properties={}), target=Node(id='Cloud Service Providers', type='Entity', properties={}), type='IMPACT', properties={})], source=Document(metadata={'producer': 'Microsoft® Word for Microsoft 365', 'creator': 'Microsoft® Word for Microsoft 365', 'creationdate': '2023-10-18T13:00:16+05:30', 'author': 'CMendez', 'moddate': '2023-10-18T13:00:16+05:30', 'source': './cloud.pdf', 'total_pages': 28, 'page': 18, 'page_label': '19', 'id': '52b9cb8a8d69167518301b9624d4ded0'}, page_content='Sullivan  \\n \\nGrowth Opportunities for Cloud Marketplaces \\nK969-72 19 \\nVia the private offer, ISVs have the flexibility to define the margin and duration for an offering that \\nis currently available via the Azure Marketplace, thereby creating a wholesale pricing structure for \\na CSP partner. When a partner successfully completes a sale, Microsoft will remit payments to this \\nISV based on this wholesale pricing arrangement. \\nThrough the Partner Center user interface or API, CSP partners can identify the software offerings \\nthey can access, by margin. For any sale, the partner receives a bill from Microsoft at the wholesale \\nprice. ISVs continue to establish the customer’s price outside the market and invoice them.  \\nMultiparty Private Offers for ISVs  \\nMultiparty private offers is a new service that enables partners to collaborate, create customized \\noffers with unique payouts, and conduct direct business with Microsoft customers using the \\nmarketplace’s streamlined selling process. Currently, multiparty private offers are available only to \\nUS buyers.   \\nThe value to ISVs is a repeatable revenue stream enhanced by access to the 400,000 partners that \\ncomprise the Microsoft partner ecosystem. Microsoft then helps ISVs navigate these partnerships \\nand payment details.  \\nFor enterprise buyers, the value is a single, integrated offering that includes software and services \\nfrom multiple vendors. \\nVia multiparty private offers, the ISV creates a customized offer for a selling partner that includes \\npricing, usage limits, and metering. The partner extends the offer to the customer via the Azure \\nMarketplace. When the transaction is completed, Microsoft invoices the customer and pays the ISV \\nand selling partner according to the terms of the agreement.')),\n",
       " GraphDocument(nodes=[Node(id='Cloud Marketplaces', type='Concept', properties={}), Node(id='Isvs', type='Entity', properties={}), Node(id='Enterprise Users', type='Entity', properties={}), Node(id='Cloud Service Providers', type='Entity', properties={}), Node(id='Growth Opportunities', type='Concept', properties={}), Node(id='Software Procurement', type='Concept', properties={}), Node(id='Co-Selling', type='Concept', properties={}), Node(id='Strategic Imperatives', type='Concept', properties={}), Node(id='Procurement Transformation', type='Concept', properties={}), Node(id='Private Marketplaces', type='Concept', properties={})], relationships=[Relationship(source=Node(id='Cloud Marketplaces', type='Concept', properties={}), target=Node(id='Software Procurement', type='Concept', properties={}), type='ENABLE', properties={}), Relationship(source=Node(id='Isvs', type='Entity', properties={}), target=Node(id='Cloud Marketplaces', type='Concept', properties={}), type='OFFER', properties={}), Relationship(source=Node(id='Cloud Service Providers', type='Entity', properties={}), target=Node(id='Cloud Marketplaces', type='Concept', properties={}), type='HOST', properties={}), Relationship(source=Node(id='Enterprise Users', type='Entity', properties={}), target=Node(id='Cloud Marketplaces', type='Concept', properties={}), type='UTILIZE', properties={}), Relationship(source=Node(id='Growth Opportunities', type='Concept', properties={}), target=Node(id='Isvs', type='Entity', properties={}), type='IMPACT', properties={}), Relationship(source=Node(id='Growth Opportunities', type='Concept', properties={}), target=Node(id='Cloud Service Providers', type='Entity', properties={}), type='IMPACT', properties={}), Relationship(source=Node(id='Cloud Marketplaces', type='Concept', properties={}), target=Node(id='Co-Selling', type='Concept', properties={}), type='ENABLE', properties={}), Relationship(source=Node(id='Cloud Marketplaces', type='Concept', properties={}), target=Node(id='Procurement Transformation', type='Concept', properties={}), type='ENABLE', properties={}), Relationship(source=Node(id='Cloud Marketplaces', type='Concept', properties={}), target=Node(id='Private Marketplaces', type='Concept', properties={}), type='SUPPORT', properties={})], source=Document(metadata={'producer': 'Microsoft® Word for Microsoft 365', 'creator': 'Microsoft® Word for Microsoft 365', 'creationdate': '2023-10-18T13:00:16+05:30', 'author': 'CMendez', 'moddate': '2023-10-18T13:00:16+05:30', 'source': './cloud.pdf', 'total_pages': 28, 'page': 19, 'page_label': '20', 'id': '6c8c878e8fe58a1857770b52dc2262d9'}, page_content='Sullivan  \\n \\nGrowth Opportunities for Cloud Marketplaces \\nK969-72 20 \\nGrowth Opportunity Universe, Cloud Marketplace Industry \\nGrowth Opportunity 1: Marketplace Co-selling for SaaS \\n \\nContext and Definition \\n• Co-selling is a mutually beneficial partnership that brings together sales teams from \\ndifferent companies. In the cloud environment, it offers SaaS providers the opportunity to \\nleverage the sales structure of cloud infrastructure providers and engage in shared business \\nactivities, including generating demand, sales planning, and exchanging sales opportunities. \\n• A co-selling strategy enhances the value proposition for enterprise customers by \\nencouraging software providers to collaborate within a specific ecosystem, tailoring \\nsolutions to a particular infrastructure. \\n• ISVs have a strong incentive to adjust their co-selling strategies to extend the reach of their \\nservices to potential customers, gain a stronger presence in cloud marketplaces, and \\nenhance customer engagement with their offerings while enabling them to optimize their \\nexisting cloud spending. \\nOpp. Size in 5 \\nYears\\nUSD 100 M \\n- USD \\n500 M\\nTimeline for \\nAction 1 to 3 Years\\nGO Base Year 2022\\nRelevant End-User Industries for this Growth Opportunity\\nManufacturing\\n Mobility\\n Metal & Mining\\nEnergy & Environment\\n Chemicals & Materials\\nInformation & \\nCommunications \\nTechnologies\\nElectronics & \\nSemiconductors\\nAgriculture, Food & \\nNutrition\\n Govt and Public Sector\\nConstruction\\n Education\\n Healthcare & Lifesciences\\nConsumer\\n Aerospace\\n Hospitality\\nRetail\\n Defense\\n Banking & Financial \\nServices\\nApplicable Regions\\nCentral & East Europe\\nSouth Asia\\nWestern Europe\\nCIS\\nNorth America\\nLatin America\\nAfrica\\nMiddle East\\nAsia-Pacific\\nFrost & Sullivan has identified 10 Growth Processes that serve as levers for determining and evaluating new Growth Opportunit ies.\\nGrowth \\nProcesses\\nCustomer & Branding\\n Distribution Channel\\n Geographic Expansion\\n Vertical Market Expansion\\n Competitive Strategy\\nStrategic Partnering\\n Product Development\\n Mergers & Acquisitions\\n Product Launch\\n Technology & IP')),\n",
       " GraphDocument(nodes=[Node(id='Cloud Marketplaces', type='Entity', properties={}), Node(id='Isvs', type='Entity', properties={}), Node(id='Enterprise Users', type='Entity', properties={}), Node(id='Cloud Service Providers', type='Entity', properties={}), Node(id='Growth Opportunities', type='Concept', properties={})], relationships=[Relationship(source=Node(id='Cloud Marketplaces', type='Entity', properties={}), target=Node(id='Software Procurement', type='Concept', properties={}), type='ENABLE', properties={}), Relationship(source=Node(id='Isvs', type='Entity', properties={}), target=Node(id='Cloud Marketplaces', type='Entity', properties={}), type='OFFER', properties={}), Relationship(source=Node(id='Cloud Service Providers', type='Entity', properties={}), target=Node(id='Cloud Marketplaces', type='Entity', properties={}), type='HOST', properties={}), Relationship(source=Node(id='Enterprise Users', type='Entity', properties={}), target=Node(id='Cloud Marketplaces', type='Entity', properties={}), type='UTILIZE', properties={}), Relationship(source=Node(id='Growth Opportunities', type='Concept', properties={}), target=Node(id='Isvs', type='Entity', properties={}), type='IMPACT', properties={}), Relationship(source=Node(id='Growth Opportunities', type='Concept', properties={}), target=Node(id='Cloud Service Providers', type='Entity', properties={}), type='IMPACT', properties={})], source=Document(metadata={'producer': 'Microsoft® Word for Microsoft 365', 'creator': 'Microsoft® Word for Microsoft 365', 'creationdate': '2023-10-18T13:00:16+05:30', 'author': 'CMendez', 'moddate': '2023-10-18T13:00:16+05:30', 'source': './cloud.pdf', 'total_pages': 28, 'page': 20, 'page_label': '21', 'id': '03287f4265208a0b202d13e25228eec5'}, page_content='Sullivan  \\n \\nGrowth Opportunities for Cloud Marketplaces \\nK969-72 21 \\n• ISVs who position themselves for co-selling in major cloud marketplaces gain greater \\nvisibility; access to additional resources, data, and contacts through the cloud marketplace \\n(which aids in customer data acquisition and management); larger and more scalable deals; \\nfaster deal closures (increased marketplace competition leads to quicker closures); and \\ngreater trust from customers in a partner ecosystem. \\nCall to Action \\n• It is crucial for SaaS providers to identify the right cloud marketplaces to meet their goals. \\nGiven the unique focus and audience of each one, ISVs must determine which cloud \\nmarketplaces align best with their offering, services, and customer targets. \\n• ISVs aiming for a successful co-selling strategy must ensure that their software meets the \\ntechnical and security requirements of the cloud marketplace they wish to integrate with. It \\nis also imperative to obtain any necessary certifications and ensure their product is fully \\ncompatible with the existing platforms and services within that marketplace. This step also \\nincludes providing specific documentation required by IaaS providers. \\n• For software providers, embarking on a novel go-to-market strategy can present a \\nsignificant challenge. Therefore, a good option is to partner with organizations (like \\nTackle.io) that have the specific know-how and offer support and guidance to quickly \\ndevelop a successful co-selling strategy.')),\n",
       " GraphDocument(nodes=[Node(id='Cloud Marketplaces', type='Entity', properties={}), Node(id='Isvs', type='Entity', properties={}), Node(id='Enterprise Users', type='Entity', properties={}), Node(id='Cloud Service Providers', type='Entity', properties={}), Node(id='Growth Opportunities', type='Entity', properties={})], relationships=[Relationship(source=Node(id='Cloud Marketplaces', type='Entity', properties={}), target=Node(id='Software Procurement', type='Process', properties={}), type='ENABLE', properties={}), Relationship(source=Node(id='Isvs', type='Entity', properties={}), target=Node(id='Software', type='Product', properties={}), type='OFFER', properties={}), Relationship(source=Node(id='Cloud Service Providers', type='Entity', properties={}), target=Node(id='Cloud Marketplaces', type='Entity', properties={}), type='HOST', properties={}), Relationship(source=Node(id='Enterprise Users', type='Entity', properties={}), target=Node(id='Cloud Marketplaces', type='Entity', properties={}), type='UTILIZE', properties={}), Relationship(source=Node(id='Growth Opportunities', type='Entity', properties={}), target=Node(id='Isvs', type='Entity', properties={}), type='IMPACT', properties={}), Relationship(source=Node(id='Growth Opportunities', type='Entity', properties={}), target=Node(id='Cloud Service Providers', type='Entity', properties={}), type='IMPACT', properties={})], source=Document(metadata={'producer': 'Microsoft® Word for Microsoft 365', 'creator': 'Microsoft® Word for Microsoft 365', 'creationdate': '2023-10-18T13:00:16+05:30', 'author': 'CMendez', 'moddate': '2023-10-18T13:00:16+05:30', 'source': './cloud.pdf', 'total_pages': 28, 'page': 21, 'page_label': '22', 'id': 'ac02d10f9427f560be113473329d78ab'}, page_content='Sullivan  \\n \\nGrowth Opportunities for Cloud Marketplaces \\nK969-72 22 \\nGrowth Opportunity 2: Streamlined Software Procurement for Enterprise Users \\n \\nContext and Definition \\n• Cloud marketplaces are spaces where cloud infrastructure providers, software that runs on \\nthem, and enterprise customers who use them converge. For the latter, given this unique \\nconvergence of players in one place, cloud marketplaces simplify the procurement process \\nfor the tools they require to enhance their operations, from search and integration to \\nimplementation and support. \\n• Cloud marketplaces enable enterprise users to expedite software solution acquisition. In a \\nworld where speed is essential for gaining or maintaining market share, a swift \\nprocurement process for digital tools necessary to support operations is crucial. \\n• Cloud marketplaces only allow businesses to find and implement software in their cloud \\noperations organically and efficiently while making the acquisition process more efficient \\nfinancially. They enable enterprise users to have a single billing for both acquired software \\nand cloud server use. Cloud marketplaces also allow them to use funds previously allocated \\nto IaaS (pre-committed spend) for software purchases, significantly streamlining a process \\nthat (outside of a cloud environment) can be lengthy and cumbersome. \\nOpp. Size in 5 \\nYears\\nOver USD \\n500 M -\\nUSD 1 B\\nTimeline for \\nAction 1 to 3 Years\\nGO Base Year 2022\\nRelevant End-User Industries for this Growth Opportunity\\nManufacturing\\n Mobility\\n Metal & Mining\\nEnergy & Environment\\n Chemicals & Materials\\nInformation & \\nCommunications \\nTechnologies\\nElectronics & \\nSemiconductors\\nAgriculture, Food & \\nNutrition\\n Govt and Public Sector\\nConstruction\\n Education\\n Healthcare & Lifesciences\\nConsumer\\n Aerospace\\n Hospitality\\nRetail\\n Defense\\n Banking & Financial \\nServices\\nApplicable Regions\\nCentral & East Europe\\nSouth Asia\\nWestern Europe\\nCIS\\nNorth America\\nLatin America\\nAfrica\\nMiddle East\\nAsia-Pacific\\nFrost & Sullivan has identified 10 Growth Processes that serve as levers for determining and evaluating new Growth Opportunit ies.\\nGrowth \\nProcesses\\nCustomer & Branding\\n Distribution Channel\\n Geographic Expansion\\n Vertical Market Expansion\\n Competitive Strategy\\nStrategic Partnering\\n Product Development\\n Mergers & Acquisitions\\n Product Launch\\n Technology & IP')),\n",
       " GraphDocument(nodes=[Node(id='Cloud Marketplaces', type='Entity', properties={}), Node(id='Isvs', type='Entity', properties={}), Node(id='Enterprise Users', type='Entity', properties={}), Node(id='Cloud Service Providers', type='Entity', properties={}), Node(id='Growth Opportunities', type='Concept', properties={})], relationships=[Relationship(source=Node(id='Cloud Marketplaces', type='Entity', properties={}), target=Node(id='Software Procurement', type='Concept', properties={}), type='ENABLE', properties={}), Relationship(source=Node(id='Isvs', type='Entity', properties={}), target=Node(id='Cloud Marketplaces', type='Entity', properties={}), type='OFFER_SOFTWARE_ON', properties={}), Relationship(source=Node(id='Cloud Service Providers', type='Entity', properties={}), target=Node(id='Cloud Marketplaces', type='Entity', properties={}), type='HOST', properties={}), Relationship(source=Node(id='Enterprise Users', type='Entity', properties={}), target=Node(id='Cloud Marketplaces', type='Entity', properties={}), type='UTILIZE_FOR_PROCUREMENT', properties={}), Relationship(source=Node(id='Growth Opportunities', type='Concept', properties={}), target=Node(id='Isvs', type='Entity', properties={}), type='IMPACT', properties={}), Relationship(source=Node(id='Growth Opportunities', type='Concept', properties={}), target=Node(id='Cloud Providers', type='Entity', properties={}), type='IMPACT', properties={})], source=Document(metadata={'producer': 'Microsoft® Word for Microsoft 365', 'creator': 'Microsoft® Word for Microsoft 365', 'creationdate': '2023-10-18T13:00:16+05:30', 'author': 'CMendez', 'moddate': '2023-10-18T13:00:16+05:30', 'source': './cloud.pdf', 'total_pages': 28, 'page': 22, 'page_label': '23', 'id': '30e65886e8c507b51b3db98aecde916f'}, page_content='Sullivan  \\n \\nGrowth Opportunities for Cloud Marketplaces \\nK969-72 23 \\nCall to Action \\n• Enterprise users who have not yet embraced tools offered by cloud marketplaces should \\nescalate their presence here. Accelerating the shift in the procurement process from \\nadjacent windows to the single portal of cloud marketplaces will enable them to find better \\nsolutions more quickly and tailored specifically to the cloud infrastructure upon which their \\noperations are deployed. \\n• A first step could be to migrate contracts that were previously sealed through independent \\nmeans with the software provider to a cloud marketplace (considering that the SaaS \\nprovider has a presence here as well). The major advantage will be a streamlined and faster \\nbilling process. \\n• The second step could involve delving into the search for software solutions within cloud \\nmarketplaces. Given the increasing incorporation of artificial intelligence in search \\nalgorithms, the result is greater personalization. Enterprise users may meet solutions that \\nwould be difficult to find or would not be visible to them at all through conventional means \\noutside of cloud marketplaces.')),\n",
       " GraphDocument(nodes=[Node(id='Cloud Marketplaces', type='Platform', properties={}), Node(id='Isvs', type='Entity', properties={}), Node(id='Enterprise Users', type='Entity', properties={}), Node(id='Cloud Service Providers', type='Entity', properties={}), Node(id='Growth Opportunities', type='Concept', properties={})], relationships=[Relationship(source=Node(id='Cloud Marketplaces', type='Platform', properties={}), target=Node(id='Software Procurement', type='Activity', properties={}), type='ENABLES', properties={}), Relationship(source=Node(id='Isvs', type='Entity', properties={}), target=Node(id='Cloud Marketplaces', type='Platform', properties={}), type='OFFER_SOFTWARE_ON', properties={}), Relationship(source=Node(id='Cloud Service Providers', type='Entity', properties={}), target=Node(id='Cloud Marketplaces', type='Platform', properties={}), type='HOST', properties={}), Relationship(source=Node(id='Enterprise Users', type='Entity', properties={}), target=Node(id='Cloud Marketplaces', type='Platform', properties={}), type='UTILIZE_FOR_PROCUREMENT', properties={}), Relationship(source=Node(id='Growth Opportunities', type='Concept', properties={}), target=Node(id='Isvs', type='Entity', properties={}), type='IMPACT', properties={}), Relationship(source=Node(id='Growth Opportunities', type='Concept', properties={}), target=Node(id='Cloud Service Providers', type='Entity', properties={}), type='IMPACT', properties={})], source=Document(metadata={'producer': 'Microsoft® Word for Microsoft 365', 'creator': 'Microsoft® Word for Microsoft 365', 'creationdate': '2023-10-18T13:00:16+05:30', 'author': 'CMendez', 'moddate': '2023-10-18T13:00:16+05:30', 'source': './cloud.pdf', 'total_pages': 28, 'page': 23, 'page_label': '24', 'id': '5e5d103d6371f9d80ff5c831e80a8367'}, page_content=\"Sullivan  \\n \\nGrowth Opportunities for Cloud Marketplaces \\nK969-72 24 \\nGrowth Opportunity 3: Private Marketplaces for Enhanced Software Procurement \\nExperience \\n \\nContext and Definition \\n• Private marketplaces within major cloud platforms have emerged as a significant feature, \\nreshaping how enterprise software is procured and managed. These private marketplaces \\nallow software providers to offer customized digital catalogs of validated software offerings \\ntailored to specific enterprise customers. \\n• Enterprises now can empower individual employees or workgroups to select the software \\nthey need, aligning with corporate policies related to cost, security, and performance. This \\nnewfound flexibility can optimize employee productivity while maintaining corporate \\ncontrol over software procurement. \\n• One key benefit of private marketplaces is the prevention of unauthorized or non-compliant \\nsoftware purchases. Enterprises can ensure that their curated catalogs adhere to their IT \\ndepartment's approval, significantly reducing the risk of unsanctioned software acquisitions. \\nOpp. Size in 5 \\nYears\\nUSD 100 M \\n– USD\\n500 M\\nTimeline for \\nAction 1 to 3 Years\\nGO Base Year 2022\\nRelevant End-User Industries for this Growth Opportunity\\nManufacturing\\n Mobility\\n Metal & Mining\\nEnergy & Environment\\n Chemicals & Materials\\nInformation & \\nCommunications \\nTechnologies\\nElectronics & \\nSemiconductors\\nAgriculture, Food & \\nNutrition\\n Govt and Public Sector\\nConstruction\\n Education\\n Healthcare & Lifesciences\\nConsumer\\n Aerospace\\n Hospitality\\nRetail\\n Defense\\n Banking & Financial \\nServices\\nApplicable Regions\\nCentral & East Europe\\nSouth Asia\\nWestern Europe\\nCIS\\nNorth America\\nLatin America\\nAfrica\\nMiddle East\\nAsia-Pacific\\nFrost & Sullivan has identified 10 Growth Processes that serve as levers for determining and evaluating new Growth Opportunit ies.\\nGrowth \\nProcesses\\nCustomer & Branding\\n Distribution Channel\\n Geographic Expansion\\n Vertical Market Expansion\\n Competitive Strategy\\nStrategic Partnering\\n Product Development\\n Mergers & Acquisitions\\n Product Launch\\n Technology & IP\")),\n",
       " GraphDocument(nodes=[Node(id='Cloud Marketplaces', type='Entity', properties={}), Node(id='Isvs', type='Entity', properties={}), Node(id='Enterprise Users', type='Entity', properties={}), Node(id='Cloud Service Providers', type='Entity', properties={}), Node(id='Growth Opportunities', type='Entity', properties={})], relationships=[Relationship(source=Node(id='Cloud Marketplaces', type='Entity', properties={}), target=Node(id='Isvs', type='Entity', properties={}), type='ENABLES', properties={}), Relationship(source=Node(id='Isvs', type='Entity', properties={}), target=Node(id='Cloud Marketplaces', type='Entity', properties={}), type='OFFER', properties={}), Relationship(source=Node(id='Cloud Service Providers', type='Entity', properties={}), target=Node(id='Cloud Marketplaces', type='Entity', properties={}), type='HOST', properties={}), Relationship(source=Node(id='Enterprise Users', type='Entity', properties={}), target=Node(id='Cloud Marketplaces', type='Entity', properties={}), type='UTILIZE', properties={}), Relationship(source=Node(id='Growth Opportunities', type='Entity', properties={}), target=Node(id='Isvs', type='Entity', properties={}), type='IMPACT', properties={}), Relationship(source=Node(id='Growth Opportunities', type='Entity', properties={}), target=Node(id='Cloud Service Providers', type='Entity', properties={}), type='IMPACT', properties={})], source=Document(metadata={'producer': 'Microsoft® Word for Microsoft 365', 'creator': 'Microsoft® Word for Microsoft 365', 'creationdate': '2023-10-18T13:00:16+05:30', 'author': 'CMendez', 'moddate': '2023-10-18T13:00:16+05:30', 'source': './cloud.pdf', 'total_pages': 28, 'page': 24, 'page_label': '25', 'id': 'a7454128d044771457fceb233017cd41'}, page_content=\"Sullivan  \\n \\nGrowth Opportunities for Cloud Marketplaces \\nK969-72 25 \\n• Administrators can further tailor the private marketplace experience by creating multiple \\nlists of approved products. These lists can be customized to suit specific teams or situational \\nrequirements, catering to the diverse demands of the organization. \\nCall to Action \\n• Enterprises seeking greater control and flexibility in software procurement should explore \\nthe potential of private marketplaces. By leveraging this feature, they can empower their \\nteams to make software selections that align with corporate policies, ultimately enhancing \\nproductivity. \\n• Enterprises should closely collaborate with software providers to create customized \\ncatalogs that meet the organization's unique needs. This ensures that these catalogs align \\nwith the IT department's approval and compliance requirements. \\n• For a software provider, it is wise to consider implementing multiple lists of approved \\nproducts and pricing to cater to various teams and situations within an enterprise \\ncustomer’s organization. This customization can streamline the software selection process \\nand improve user satisfaction. \\n• SaaS providers should seize the opportunity to enhance their presence within private \\nmarketplaces by customizing their own digital shelves when the platform allows (including \\nlogo and font). This not only fosters trust among potential customers but also strengthens \\ntheir brand identity within the cloud marketplace ecosystem.\")),\n",
       " GraphDocument(nodes=[Node(id='Cloud Marketplaces', type='Entity', properties={}), Node(id='Isvs', type='Entity', properties={}), Node(id='Enterprise Users', type='Entity', properties={}), Node(id='Cloud Service Providers', type='Entity', properties={}), Node(id='Growth Opportunities', type='Concept', properties={})], relationships=[Relationship(source=Node(id='Cloud Marketplaces', type='Entity', properties={}), target=Node(id='Software Procurement', type='Process', properties={}), type='ENABLE', properties={}), Relationship(source=Node(id='Isvs', type='Entity', properties={}), target=Node(id='Cloud Marketplaces', type='Entity', properties={}), type='OFFER', properties={}), Relationship(source=Node(id='Cloud Service Providers', type='Entity', properties={}), target=Node(id='Cloud Marketplaces', type='Entity', properties={}), type='HOST', properties={}), Relationship(source=Node(id='Enterprise Users', type='Entity', properties={}), target=Node(id='Cloud Marketplaces', type='Entity', properties={}), type='UTILIZE', properties={}), Relationship(source=Node(id='Growth Opportunities', type='Concept', properties={}), target=Node(id='Isvs', type='Entity', properties={}), type='IMPACT', properties={}), Relationship(source=Node(id='Growth Opportunities', type='Concept', properties={}), target=Node(id='Cloud Service Providers', type='Entity', properties={}), type='IMPACT', properties={})], source=Document(metadata={'producer': 'Microsoft® Word for Microsoft 365', 'creator': 'Microsoft® Word for Microsoft 365', 'creationdate': '2023-10-18T13:00:16+05:30', 'author': 'CMendez', 'moddate': '2023-10-18T13:00:16+05:30', 'source': './cloud.pdf', 'total_pages': 28, 'page': 25, 'page_label': '26', 'id': '451b0bfc6b9e4aa1d83fff11f930fa58'}, page_content='Sullivan  \\n \\nGrowth Opportunities for Cloud Marketplaces \\nK969-72 26 \\nThe Last Word \\nCloud marketplaces have shown significant growth and transformation in recent years; each one \\nhas evolved and continues to do so under its own unique paradigm. For cloud infrastructure \\nproviders, cloud marketplaces are crucial to boosting the growth of their ecosystems. \\nMarketplaces, while differing in some respects, share a common urgency to offer software solution \\naccessibility and procurement process speed—highly valued elements when attracting software \\nproviders that develop tailored services for cloud infrastructure. Subsequently, they aim to entice \\nenterprises to migrate their operations to the cloud or scale them up if they are already there. \\nCloud marketplaces represent a significant step in solidifying the cloud as both the present and \\nimmediate future for software developers and their enterprise users. The growth of cloud \\nmarketplaces is still in its early stages, but the direction is clear: they aspire to become the hub \\nwhere all digitization paths converge. This is where all players, including cloud providers, software \\nproviders, and enterprise users, will come together to develop solutions demanded by the ever-\\ngrowing digital world and make most exchanges possible. \\nHowever, cloud marketplaces can still pose remarkable challenges for developers, software \\nproviders, and enterprise users because each requires them to operate under non-traditional \\nmechanisms. Nevertheless, those who aim to thrive, find new clients, create more appealing \\nsolutions, and discover new opportunities in an ever-changing virtual world should promptly \\nembrace cloud marketplaces. Much of their growth in the coming years will likely depend on it.')),\n",
       " GraphDocument(nodes=[Node(id='Cloud Marketplaces', type='Concept', properties={}), Node(id='Isvs', type='Entity', properties={}), Node(id='Enterprise Users', type='Entity', properties={}), Node(id='Cloud Service Providers', type='Entity', properties={}), Node(id='Growth Opportunities', type='Concept', properties={})], relationships=[Relationship(source=Node(id='Cloud Marketplaces', type='Concept', properties={}), target=Node(id='Software Procurement', type='Concept', properties={}), type='ENABLE', properties={}), Relationship(source=Node(id='Isvs', type='Entity', properties={}), target=Node(id='Cloud Marketplaces', type='Concept', properties={}), type='OFFER', properties={}), Relationship(source=Node(id='Cloud Service Providers', type='Entity', properties={}), target=Node(id='Cloud Marketplaces', type='Concept', properties={}), type='HOST', properties={}), Relationship(source=Node(id='Enterprise Users', type='Entity', properties={}), target=Node(id='Cloud Marketplaces', type='Concept', properties={}), type='UTILIZE', properties={}), Relationship(source=Node(id='Growth Opportunities', type='Concept', properties={}), target=Node(id='Isvs', type='Entity', properties={}), type='IMPACT', properties={}), Relationship(source=Node(id='Growth Opportunities', type='Concept', properties={}), target=Node(id='Cloud Service Providers', type='Entity', properties={}), type='IMPACT', properties={})], source=Document(metadata={'producer': 'Microsoft® Word for Microsoft 365', 'creator': 'Microsoft® Word for Microsoft 365', 'creationdate': '2023-10-18T13:00:16+05:30', 'author': 'CMendez', 'moddate': '2023-10-18T13:00:16+05:30', 'source': './cloud.pdf', 'total_pages': 28, 'page': 26, 'page_label': '27', 'id': '3cf1da14d768829bbf13f28e4720bf2b'}, page_content='Sullivan  \\n \\nGrowth Opportunities for Cloud Marketplaces \\nK969-72 27 \\nGrowth Pipeline EngineTM \\n \\n \\nFrost & Sullivan’s Growth Pipeline Engine™ supports clients through all 5 phases of growth: From \\ndeveloping, evaluating, and prioritizing opportunities to building and implementing go-to-market strategies \\nand optimizing opportunities. The objective of this study is to be a client’s first step on a growth journey.')),\n",
       " GraphDocument(nodes=[Node(id='Cloud Marketplaces', type='Entity', properties={}), Node(id='Isvs', type='Entity', properties={}), Node(id='Enterprise Users', type='Entity', properties={}), Node(id='Cloud Service Providers', type='Entity', properties={}), Node(id='Growth Opportunities', type='Concept', properties={})], relationships=[Relationship(source=Node(id='Cloud Marketplaces', type='Entity', properties={}), target=Node(id='Isvs', type='Entity', properties={}), type='ENABLE', properties={}), Relationship(source=Node(id='Isvs', type='Entity', properties={}), target=Node(id='Cloud Marketplaces', type='Entity', properties={}), type='OFFER', properties={}), Relationship(source=Node(id='Cloud Service Providers', type='Entity', properties={}), target=Node(id='Cloud Marketplaces', type='Entity', properties={}), type='HOST', properties={}), Relationship(source=Node(id='Enterprise Users', type='Entity', properties={}), target=Node(id='Cloud Marketplaces', type='Entity', properties={}), type='UTILIZE', properties={}), Relationship(source=Node(id='Growth Opportunities', type='Concept', properties={}), target=Node(id='Isvs', type='Entity', properties={}), type='IMPACT', properties={}), Relationship(source=Node(id='Growth Opportunities', type='Concept', properties={}), target=Node(id='Cloud Service Providers', type='Entity', properties={}), type='IMPACT', properties={})], source=Document(metadata={'producer': 'Microsoft® Word for Microsoft 365', 'creator': 'Microsoft® Word for Microsoft 365', 'creationdate': '2023-10-18T13:00:16+05:30', 'author': 'CMendez', 'moddate': '2023-10-18T13:00:16+05:30', 'source': './cloud.pdf', 'total_pages': 28, 'page': 27, 'page_label': '28', 'id': '4add95f2f6745305ad6a42af1182c4be'}, page_content='© 2023 Frost & Sullivan. All rights reserved.  \\nThis document contains highly confidential information and is the sole property of Frost & Sullivan.  \\nNo part of it may be circulated, quoted, copied, or otherwise reproduced without the written approval of Frost & Sullivan.  \\nLegal Disclaimer \\nFrost & Sullivan is not responsible for any incorrect information supplied by companies or users. \\nQuantitative market information is based primarily on interviews and therefore is subject to \\nfluctuation. Frost & Sullivan research services are limited publications containing valuable market \\ninformation provided to a select group of customers. Customers acknowledge, when ordering or \\ndownloading, that Frost & Sullivan research services are for internal use and not for general \\npublication or disclosure to third parties. No part of this research service may be given, lent, resold, \\nor disclosed to noncustomers without written permission. Furthermore, no part may be \\nreproduced, stored in a retrieval system, or transmitted in any form or by any means—electronic, \\nmechanical, photocopying, recording, or otherwise—without the permission of the publisher. \\n \\nFor information regarding permission, write to: permission@frost.com'))]"
      ]
     },
     "execution_count": 38,
     "metadata": {},
     "output_type": "execute_result"
    }
   ],
   "source": [
    "graph_documents"
   ]
  },
  {
   "cell_type": "code",
   "execution_count": 40,
   "metadata": {},
   "outputs": [],
   "source": [
    "graph = Neo4jGraph(\n",
    "    database=\"\",\n",
    "    url=neo4j_uri,\n",
    "    username=neo4j_username,\n",
    "    password=neo4j_password\n",
    ")"
   ]
  },
  {
   "cell_type": "code",
   "execution_count": 41,
   "metadata": {},
   "outputs": [],
   "source": [
    "graph.add_graph_documents(\n",
    "    graph_documents,\n",
    "    baseEntityLabel=True,\n",
    "    include_source=False\n",
    ")"
   ]
  },
  {
   "cell_type": "code",
   "execution_count": 43,
   "metadata": {},
   "outputs": [],
   "source": [
    "from neo4j import GraphDatabase\n",
    "from yfiles_jupyter_graphs import GraphWidget\n",
    "\n",
    "def showGraph():\n",
    "    driver = GraphDatabase.driver(\n",
    "        uri=neo4j_uri,\n",
    "        auth=(neo4j_username, neo4j_password)\n",
    "    )\n",
    "    session = driver.session()\n",
    "    widget = GraphWidget(graph=session.run(\"MATCH (s)-[r:!MENTIONS]->(t) RETURN s, r, t\").graph())\n",
    "    widget.node_label_mapping = 'id'\n",
    "    return widget\n",
    "\n"
   ]
  },
  {
   "cell_type": "code",
   "execution_count": 44,
   "metadata": {},
   "outputs": [
    {
     "data": {
      "application/vnd.jupyter.widget-view+json": {
       "model_id": "1affeee7f7584624a2e2dee30bd0d778",
       "version_major": 2,
       "version_minor": 0
      },
      "text/plain": [
       "GraphWidget(layout=Layout(height='670px', width='100%'))"
      ]
     },
     "metadata": {},
     "output_type": "display_data"
    }
   ],
   "source": [
    "showGraph()"
   ]
  },
  {
   "cell_type": "code",
   "execution_count": 60,
   "metadata": {},
   "outputs": [
    {
     "data": {
      "text/plain": [
       "'Node properties:\\nConcept {id: STRING}\\nEntity {id: STRING}\\nPlatform {id: STRING}\\nRelationship properties:\\n\\nThe relationships:\\n(:Concept)-[:IMPACTS]->(:Concept)\\n(:Concept)-[:IMPACTS]->(:Entity)\\n(:Concept)-[:FOCUSES_ON]->(:Concept)\\n(:Concept)-[:INCLUDES]->(:Concept)\\n(:Concept)-[:IMPACT]->(:Concept)\\n(:Concept)-[:IMPACT]->(:Entity)\\n(:Concept)-[:RELATED_TO]->(:Concept)\\n(:Concept)-[:INFLUENCE]->(:Concept)\\n(:Concept)-[:INFLUENCE]->(:Entity)\\n(:Concept)-[:INFLUENCE]->(:Platform)\\n(:Concept)-[:DRIVE]->(:Concept)\\n(:Concept)-[:DRIVE]->(:Entity)\\n(:Concept)-[:AFFECT]->(:Concept)\\n(:Concept)-[:AFFECT]->(:Entity)\\n(:Concept)-[:ENABLE]->(:Concept)\\n(:Concept)-[:ENABLE]->(:Entity)\\n(:Concept)-[:SUPPORT]->(:Concept)\\n(:Concept)-[:SUPPORT]->(:Entity)\\n(:Concept)-[:ENHANCE]->(:Concept)\\n(:Concept)-[:ENHANCE]->(:Entity)\\n(:Concept)-[:ENHANCE]->(:Platform)\\n(:Concept)-[:ENABLES]->(:Concept)\\n(:Concept)-[:ENABLES]->(:Entity)\\n(:Concept)-[:OFFERS_SOFTWARE_ON]->(:Concept)\\n(:Concept)-[:OFFERS_SOFTWARE_ON]->(:Entity)\\n(:Concept)-[:OFFERS_SOFTWARE_ON]->(:Platform)\\n(:Concept)-[:OFFER]->(:Concept)\\n(:Concept)-[:OFFER]->(:Entity)\\n(:Concept)-[:OFFER]->(:Platform)\\n(:Concept)-[:OFFER_SOFTWARE_ON]->(:Concept)\\n(:Concept)-[:OFFER_SOFTWARE_ON]->(:Entity)\\n(:Concept)-[:OFFER_SOFTWARE_ON]->(:Platform)\\n(:Concept)-[:OFFER_SOFTWARE]->(:Concept)\\n(:Concept)-[:OFFER_SOFTWARE]->(:Entity)\\n(:Concept)-[:OFFER_SOFTWARE]->(:Platform)\\n(:Concept)-[:UTILIZE]->(:Concept)\\n(:Concept)-[:UTILIZE]->(:Entity)\\n(:Concept)-[:UTILIZE]->(:Platform)\\n(:Concept)-[:UTILIZES_FOR_PROCUREMENT]->(:Concept)\\n(:Concept)-[:UTILIZES_FOR_PROCUREMENT]->(:Entity)\\n(:Concept)-[:UTILIZES_FOR_PROCUREMENT]->(:Platform)\\n(:Concept)-[:UTILIZE_FOR_PROCUREMENT]->(:Concept)\\n(:Concept)-[:UTILIZE_FOR_PROCUREMENT]->(:Entity)\\n(:Concept)-[:UTILIZE_FOR_PROCUREMENT]->(:Platform)\\n(:Concept)-[:HOSTS]->(:Concept)\\n(:Concept)-[:HOSTS]->(:Entity)\\n(:Concept)-[:HOSTS]->(:Platform)\\n(:Concept)-[:HOST]->(:Concept)\\n(:Concept)-[:HOST]->(:Entity)\\n(:Concept)-[:HOST]->(:Platform)\\n(:Entity)-[:IMPACTS]->(:Concept)\\n(:Entity)-[:IMPACTS]->(:Entity)\\n(:Entity)-[:FOCUSES_ON]->(:Concept)\\n(:Entity)-[:INCLUDES]->(:Concept)\\n(:Entity)-[:IMPACT]->(:Concept)\\n(:Entity)-[:IMPACT]->(:Entity)\\n(:Entity)-[:RELATED_TO]->(:Concept)\\n(:Entity)-[:ENABLE]->(:Concept)\\n(:Entity)-[:ENABLE]->(:Entity)\\n(:Entity)-[:UTILIZE]->(:Concept)\\n(:Entity)-[:UTILIZE]->(:Entity)\\n(:Entity)-[:UTILIZE]->(:Platform)\\n(:Entity)-[:UTILIZE_FOR_PROCUREMENT]->(:Concept)\\n(:Entity)-[:UTILIZE_FOR_PROCUREMENT]->(:Entity)\\n(:Entity)-[:UTILIZE_FOR_PROCUREMENT]->(:Platform)\\n(:Entity)-[:HOST]->(:Concept)\\n(:Entity)-[:HOST]->(:Entity)\\n(:Entity)-[:HOST]->(:Platform)\\n(:Entity)-[:ENABLES]->(:Concept)\\n(:Entity)-[:ENABLES]->(:Entity)\\n(:Entity)-[:SUPPORT]->(:Concept)\\n(:Entity)-[:OFFERS_SOFTWARE_ON]->(:Concept)\\n(:Entity)-[:OFFERS_SOFTWARE_ON]->(:Entity)\\n(:Entity)-[:OFFERS_SOFTWARE_ON]->(:Platform)\\n(:Entity)-[:OFFER]->(:Concept)\\n(:Entity)-[:OFFER]->(:Entity)\\n(:Entity)-[:OFFER]->(:Platform)\\n(:Entity)-[:OFFER_SOFTWARE_ON]->(:Concept)\\n(:Entity)-[:OFFER_SOFTWARE_ON]->(:Entity)\\n(:Entity)-[:OFFER_SOFTWARE_ON]->(:Platform)\\n(:Entity)-[:OFFER_SOFTWARE]->(:Concept)\\n(:Entity)-[:OFFER_SOFTWARE]->(:Entity)\\n(:Entity)-[:OFFER_SOFTWARE]->(:Platform)\\n(:Entity)-[:UTILIZES_FOR_PROCUREMENT]->(:Concept)\\n(:Entity)-[:UTILIZES_FOR_PROCUREMENT]->(:Entity)\\n(:Entity)-[:UTILIZES_FOR_PROCUREMENT]->(:Platform)\\n(:Entity)-[:HOSTS]->(:Concept)\\n(:Entity)-[:HOSTS]->(:Entity)\\n(:Entity)-[:HOSTS]->(:Platform)\\n(:Platform)-[:ENABLES]->(:Concept)\\n(:Platform)-[:ENABLES]->(:Entity)\\n(:Platform)-[:ENABLE]->(:Concept)\\n(:Platform)-[:ENABLE]->(:Entity)\\n(:Platform)-[:SUPPORT]->(:Concept)'"
      ]
     },
     "execution_count": 60,
     "metadata": {},
     "output_type": "execute_result"
    }
   ],
   "source": [
    "graph.schema"
   ]
  }
 ],
 "metadata": {
  "kernelspec": {
   "display_name": "ecosystem-ai",
   "language": "python",
   "name": "python3"
  },
  "language_info": {
   "codemirror_mode": {
    "name": "ipython",
    "version": 3
   },
   "file_extension": ".py",
   "mimetype": "text/x-python",
   "name": "python",
   "nbconvert_exporter": "python",
   "pygments_lexer": "ipython3",
   "version": "3.10.7"
  }
 },
 "nbformat": 4,
 "nbformat_minor": 2
}
